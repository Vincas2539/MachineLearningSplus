{
 "cells": [
  {
   "cell_type": "code",
   "execution_count": 1,
   "id": "2bc6ca89",
   "metadata": {},
   "outputs": [
    {
     "name": "stdout",
     "output_type": "stream",
     "text": [
      "Loaded  2 encoders.\n"
     ]
    }
   ],
   "source": [
    "%matplotlib inline\n",
    "\n",
    "import pandas as pd\n",
    "import numpy as np\n",
    "import matplotlib.pyplot as plt\n",
    "\n",
    "from package import models\n",
    "from package import encoder\n",
    "\n",
    "from sklearn.preprocessing import MinMaxScaler\n",
    "import seaborn as sns\n",
    "from sklearn.model_selection import train_test_split\n",
    "from sklearn.metrics import r2_score\n",
    "from sklearn.metrics import mean_squared_error\n",
    "from sklearn.metrics import mean_absolute_error\n",
    "\n",
    "from sklearn import preprocessing\n",
    "from sklearn import utils\n",
    "\n",
    "# Modelos\n",
    "from sklearn.linear_model import LinearRegression\n",
    "from sklearn.tree import DecisionTreeRegressor\n",
    "from sklearn.linear_model import SGDRegressor\n",
    "from sklearn.preprocessing import PolynomialFeatures\n",
    "from sklearn.ensemble import RandomForestRegressor\n",
    "from sklearn.ensemble import GradientBoostingRegressor\n",
    "from sklearn.ensemble import ExtraTreesRegressor\n",
    "from sklearn.ensemble import BaggingRegressor\n",
    "from sklearn.ensemble import GradientBoostingRegressor\n",
    "from sklearn.ensemble import HistGradientBoostingRegressor\n",
    "\n",
    "from sklearn.metrics import confusion_matrix, roc_curve, classification_report"
   ]
  },
  {
   "cell_type": "code",
   "execution_count": 2,
   "id": "90544e92",
   "metadata": {},
   "outputs": [],
   "source": [
    "csv = pd.read_csv(\"SPLUSiDR4_GaiaEDR3_BJ21_LAMOSTDR7_SEGUE.csv\", encoding='latin-1', index_col=['ID', 'RA_SPLUS', 'DEC_SPLUS'])\n",
    "xtrain = pd.DataFrame()\n",
    "ytrain = pd.DataFrame()"
   ]
  },
  {
   "cell_type": "code",
   "execution_count": 3,
   "id": "fc2d3d7a",
   "metadata": {},
   "outputs": [
    {
     "data": {
      "text/html": [
       "<div>\n",
       "<style scoped>\n",
       "    .dataframe tbody tr th:only-of-type {\n",
       "        vertical-align: middle;\n",
       "    }\n",
       "\n",
       "    .dataframe tbody tr th {\n",
       "        vertical-align: top;\n",
       "    }\n",
       "\n",
       "    .dataframe thead th {\n",
       "        text-align: right;\n",
       "    }\n",
       "</style>\n",
       "<table border=\"1\" class=\"dataframe\">\n",
       "  <thead>\n",
       "    <tr style=\"text-align: right;\">\n",
       "      <th></th>\n",
       "      <th></th>\n",
       "      <th></th>\n",
       "      <th>u_0</th>\n",
       "      <th>J378_0</th>\n",
       "      <th>J395_0</th>\n",
       "      <th>J410_0</th>\n",
       "      <th>J430_0</th>\n",
       "      <th>g_0</th>\n",
       "      <th>J515_0</th>\n",
       "      <th>r_0</th>\n",
       "      <th>J660_0</th>\n",
       "      <th>i_0</th>\n",
       "      <th>...</th>\n",
       "      <th>feh_LAMOST_err</th>\n",
       "      <th>teff_LAMOST_recalibrated</th>\n",
       "      <th>logg_LAMOST_recalibrated</th>\n",
       "      <th>feh_LAMOST_recalibrated</th>\n",
       "      <th>teff_training</th>\n",
       "      <th>teff_training_err</th>\n",
       "      <th>logg_training</th>\n",
       "      <th>logg_training_err</th>\n",
       "      <th>feh_training</th>\n",
       "      <th>feh_training_err</th>\n",
       "    </tr>\n",
       "    <tr>\n",
       "      <th>ID</th>\n",
       "      <th>RA_SPLUS</th>\n",
       "      <th>DEC_SPLUS</th>\n",
       "      <th></th>\n",
       "      <th></th>\n",
       "      <th></th>\n",
       "      <th></th>\n",
       "      <th></th>\n",
       "      <th></th>\n",
       "      <th></th>\n",
       "      <th></th>\n",
       "      <th></th>\n",
       "      <th></th>\n",
       "      <th></th>\n",
       "      <th></th>\n",
       "      <th></th>\n",
       "      <th></th>\n",
       "      <th></th>\n",
       "      <th></th>\n",
       "      <th></th>\n",
       "      <th></th>\n",
       "      <th></th>\n",
       "      <th></th>\n",
       "      <th></th>\n",
       "    </tr>\n",
       "  </thead>\n",
       "  <tbody>\n",
       "    <tr>\n",
       "      <th>iDR4_3_SPLUS-n01s01_0000103</th>\n",
       "      <th>150.174918</th>\n",
       "      <th>-0.707248</th>\n",
       "      <td>18.740275</td>\n",
       "      <td>18.459236</td>\n",
       "      <td>18.448148</td>\n",
       "      <td>17.773576</td>\n",
       "      <td>17.745170</td>\n",
       "      <td>17.453267</td>\n",
       "      <td>17.281794</td>\n",
       "      <td>16.996103</td>\n",
       "      <td>16.979660</td>\n",
       "      <td>16.878871</td>\n",
       "      <td>...</td>\n",
       "      <td>NaN</td>\n",
       "      <td>NaN</td>\n",
       "      <td>NaN</td>\n",
       "      <td>NaN</td>\n",
       "      <td>5777</td>\n",
       "      <td>9</td>\n",
       "      <td>4.27</td>\n",
       "      <td>0.05</td>\n",
       "      <td>-0.42</td>\n",
       "      <td>0.04</td>\n",
       "    </tr>\n",
       "    <tr>\n",
       "      <th>iDR4_3_SPLUS-n01s01_0000131</th>\n",
       "      <th>150.247784</th>\n",
       "      <th>-0.706343</th>\n",
       "      <td>17.961170</td>\n",
       "      <td>17.557527</td>\n",
       "      <td>17.395885</td>\n",
       "      <td>16.940903</td>\n",
       "      <td>16.960105</td>\n",
       "      <td>16.798380</td>\n",
       "      <td>16.634018</td>\n",
       "      <td>16.553750</td>\n",
       "      <td>16.562136</td>\n",
       "      <td>16.524397</td>\n",
       "      <td>...</td>\n",
       "      <td>0.088</td>\n",
       "      <td>6695.90</td>\n",
       "      <td>3.986</td>\n",
       "      <td>-0.575</td>\n",
       "      <td>6567</td>\n",
       "      <td>18</td>\n",
       "      <td>3.82</td>\n",
       "      <td>0.06</td>\n",
       "      <td>-0.53</td>\n",
       "      <td>0.03</td>\n",
       "    </tr>\n",
       "    <tr>\n",
       "      <th>iDR4_3_SPLUS-n01s01_0000200</th>\n",
       "      <th>150.966743</th>\n",
       "      <th>-0.705547</th>\n",
       "      <td>15.610993</td>\n",
       "      <td>15.151029</td>\n",
       "      <td>14.938563</td>\n",
       "      <td>14.678464</td>\n",
       "      <td>14.614623</td>\n",
       "      <td>14.519800</td>\n",
       "      <td>14.358354</td>\n",
       "      <td>14.258020</td>\n",
       "      <td>14.280045</td>\n",
       "      <td>14.259589</td>\n",
       "      <td>...</td>\n",
       "      <td>0.058</td>\n",
       "      <td>6596.29</td>\n",
       "      <td>3.741</td>\n",
       "      <td>-0.471</td>\n",
       "      <td>6683</td>\n",
       "      <td>17</td>\n",
       "      <td>3.81</td>\n",
       "      <td>0.06</td>\n",
       "      <td>-0.35</td>\n",
       "      <td>0.02</td>\n",
       "    </tr>\n",
       "    <tr>\n",
       "      <th>iDR4_3_SPLUS-n01s01_0000220</th>\n",
       "      <th>150.436039</th>\n",
       "      <th>-0.703092</th>\n",
       "      <td>18.196770</td>\n",
       "      <td>17.862429</td>\n",
       "      <td>17.808803</td>\n",
       "      <td>17.216337</td>\n",
       "      <td>17.137261</td>\n",
       "      <td>16.869861</td>\n",
       "      <td>16.693803</td>\n",
       "      <td>16.442250</td>\n",
       "      <td>16.429073</td>\n",
       "      <td>16.330336</td>\n",
       "      <td>...</td>\n",
       "      <td>NaN</td>\n",
       "      <td>NaN</td>\n",
       "      <td>NaN</td>\n",
       "      <td>NaN</td>\n",
       "      <td>5847</td>\n",
       "      <td>46</td>\n",
       "      <td>4.08</td>\n",
       "      <td>0.04</td>\n",
       "      <td>-0.31</td>\n",
       "      <td>0.02</td>\n",
       "    </tr>\n",
       "    <tr>\n",
       "      <th>iDR4_3_SPLUS-n01s01_0000248</th>\n",
       "      <th>150.416858</th>\n",
       "      <th>-0.702641</th>\n",
       "      <td>17.882518</td>\n",
       "      <td>17.664711</td>\n",
       "      <td>17.522903</td>\n",
       "      <td>16.866583</td>\n",
       "      <td>16.798515</td>\n",
       "      <td>16.354411</td>\n",
       "      <td>16.198380</td>\n",
       "      <td>15.784910</td>\n",
       "      <td>15.729709</td>\n",
       "      <td>15.614563</td>\n",
       "      <td>...</td>\n",
       "      <td>0.051</td>\n",
       "      <td>5340.13</td>\n",
       "      <td>4.454</td>\n",
       "      <td>-0.703</td>\n",
       "      <td>5280</td>\n",
       "      <td>38</td>\n",
       "      <td>4.49</td>\n",
       "      <td>0.06</td>\n",
       "      <td>-0.84</td>\n",
       "      <td>0.05</td>\n",
       "    </tr>\n",
       "    <tr>\n",
       "      <th>...</th>\n",
       "      <th>...</th>\n",
       "      <th>...</th>\n",
       "      <td>...</td>\n",
       "      <td>...</td>\n",
       "      <td>...</td>\n",
       "      <td>...</td>\n",
       "      <td>...</td>\n",
       "      <td>...</td>\n",
       "      <td>...</td>\n",
       "      <td>...</td>\n",
       "      <td>...</td>\n",
       "      <td>...</td>\n",
       "      <td>...</td>\n",
       "      <td>...</td>\n",
       "      <td>...</td>\n",
       "      <td>...</td>\n",
       "      <td>...</td>\n",
       "      <td>...</td>\n",
       "      <td>...</td>\n",
       "      <td>...</td>\n",
       "      <td>...</td>\n",
       "      <td>...</td>\n",
       "      <td>...</td>\n",
       "    </tr>\n",
       "    <tr>\n",
       "      <th>iDR4_3_STRIPE82-0170_0047436</th>\n",
       "      <th>358.244396</th>\n",
       "      <th>1.317788</th>\n",
       "      <td>19.305300</td>\n",
       "      <td>18.933995</td>\n",
       "      <td>18.973642</td>\n",
       "      <td>18.284042</td>\n",
       "      <td>18.290215</td>\n",
       "      <td>17.841979</td>\n",
       "      <td>17.704608</td>\n",
       "      <td>17.396171</td>\n",
       "      <td>17.388831</td>\n",
       "      <td>17.271604</td>\n",
       "      <td>...</td>\n",
       "      <td>0.119</td>\n",
       "      <td>5636.50</td>\n",
       "      <td>4.316</td>\n",
       "      <td>-0.692</td>\n",
       "      <td>5637</td>\n",
       "      <td>109</td>\n",
       "      <td>4.32</td>\n",
       "      <td>0.18</td>\n",
       "      <td>-0.69</td>\n",
       "      <td>0.12</td>\n",
       "    </tr>\n",
       "    <tr>\n",
       "      <th>iDR4_3_STRIPE82-0170_0047656</th>\n",
       "      <th>358.443639</th>\n",
       "      <th>1.319673</th>\n",
       "      <td>16.435508</td>\n",
       "      <td>16.125900</td>\n",
       "      <td>15.977774</td>\n",
       "      <td>15.279934</td>\n",
       "      <td>15.188697</td>\n",
       "      <td>14.779653</td>\n",
       "      <td>14.595130</td>\n",
       "      <td>14.282482</td>\n",
       "      <td>14.243314</td>\n",
       "      <td>14.105358</td>\n",
       "      <td>...</td>\n",
       "      <td>0.062</td>\n",
       "      <td>5591.32</td>\n",
       "      <td>4.205</td>\n",
       "      <td>-0.122</td>\n",
       "      <td>5591</td>\n",
       "      <td>59</td>\n",
       "      <td>4.21</td>\n",
       "      <td>0.09</td>\n",
       "      <td>-0.12</td>\n",
       "      <td>0.06</td>\n",
       "    </tr>\n",
       "    <tr>\n",
       "      <th>iDR4_3_STRIPE82-0170_0048158</th>\n",
       "      <th>358.291405</th>\n",
       "      <th>1.288510</th>\n",
       "      <td>15.140979</td>\n",
       "      <td>14.620409</td>\n",
       "      <td>14.519064</td>\n",
       "      <td>14.139961</td>\n",
       "      <td>14.072554</td>\n",
       "      <td>13.942583</td>\n",
       "      <td>13.793976</td>\n",
       "      <td>13.681078</td>\n",
       "      <td>13.694912</td>\n",
       "      <td>13.620172</td>\n",
       "      <td>...</td>\n",
       "      <td>0.040</td>\n",
       "      <td>6564.66</td>\n",
       "      <td>3.897</td>\n",
       "      <td>-0.647</td>\n",
       "      <td>6565</td>\n",
       "      <td>43</td>\n",
       "      <td>3.90</td>\n",
       "      <td>0.06</td>\n",
       "      <td>-0.65</td>\n",
       "      <td>0.04</td>\n",
       "    </tr>\n",
       "    <tr>\n",
       "      <th>iDR4_3_STRIPE82-0170_0048420</th>\n",
       "      <th>358.189227</th>\n",
       "      <th>1.301481</th>\n",
       "      <td>18.631126</td>\n",
       "      <td>18.292158</td>\n",
       "      <td>18.287372</td>\n",
       "      <td>17.730859</td>\n",
       "      <td>17.621585</td>\n",
       "      <td>17.317281</td>\n",
       "      <td>17.125777</td>\n",
       "      <td>16.896661</td>\n",
       "      <td>16.875269</td>\n",
       "      <td>16.739938</td>\n",
       "      <td>...</td>\n",
       "      <td>0.112</td>\n",
       "      <td>5797.38</td>\n",
       "      <td>4.349</td>\n",
       "      <td>-0.592</td>\n",
       "      <td>5797</td>\n",
       "      <td>105</td>\n",
       "      <td>4.35</td>\n",
       "      <td>0.17</td>\n",
       "      <td>-0.59</td>\n",
       "      <td>0.11</td>\n",
       "    </tr>\n",
       "    <tr>\n",
       "      <th>iDR4_3_STRIPE82-0170_0048706</th>\n",
       "      <th>359.198088</th>\n",
       "      <th>1.299004</th>\n",
       "      <td>14.402238</td>\n",
       "      <td>14.016787</td>\n",
       "      <td>13.927850</td>\n",
       "      <td>13.497025</td>\n",
       "      <td>13.424134</td>\n",
       "      <td>13.231643</td>\n",
       "      <td>13.080536</td>\n",
       "      <td>12.963231</td>\n",
       "      <td>12.951431</td>\n",
       "      <td>12.924595</td>\n",
       "      <td>...</td>\n",
       "      <td>0.028</td>\n",
       "      <td>6243.56</td>\n",
       "      <td>4.050</td>\n",
       "      <td>-0.668</td>\n",
       "      <td>6244</td>\n",
       "      <td>33</td>\n",
       "      <td>4.05</td>\n",
       "      <td>0.05</td>\n",
       "      <td>-0.67</td>\n",
       "      <td>0.03</td>\n",
       "    </tr>\n",
       "  </tbody>\n",
       "</table>\n",
       "<p>89660 rows × 116 columns</p>\n",
       "</div>"
      ],
      "text/plain": [
       "                                                         u_0     J378_0  \\\n",
       "ID                           RA_SPLUS   DEC_SPLUS                         \n",
       "iDR4_3_SPLUS-n01s01_0000103  150.174918 -0.707248  18.740275  18.459236   \n",
       "iDR4_3_SPLUS-n01s01_0000131  150.247784 -0.706343  17.961170  17.557527   \n",
       "iDR4_3_SPLUS-n01s01_0000200  150.966743 -0.705547  15.610993  15.151029   \n",
       "iDR4_3_SPLUS-n01s01_0000220  150.436039 -0.703092  18.196770  17.862429   \n",
       "iDR4_3_SPLUS-n01s01_0000248  150.416858 -0.702641  17.882518  17.664711   \n",
       "...                                                      ...        ...   \n",
       "iDR4_3_STRIPE82-0170_0047436 358.244396  1.317788  19.305300  18.933995   \n",
       "iDR4_3_STRIPE82-0170_0047656 358.443639  1.319673  16.435508  16.125900   \n",
       "iDR4_3_STRIPE82-0170_0048158 358.291405  1.288510  15.140979  14.620409   \n",
       "iDR4_3_STRIPE82-0170_0048420 358.189227  1.301481  18.631126  18.292158   \n",
       "iDR4_3_STRIPE82-0170_0048706 359.198088  1.299004  14.402238  14.016787   \n",
       "\n",
       "                                                      J395_0     J410_0  \\\n",
       "ID                           RA_SPLUS   DEC_SPLUS                         \n",
       "iDR4_3_SPLUS-n01s01_0000103  150.174918 -0.707248  18.448148  17.773576   \n",
       "iDR4_3_SPLUS-n01s01_0000131  150.247784 -0.706343  17.395885  16.940903   \n",
       "iDR4_3_SPLUS-n01s01_0000200  150.966743 -0.705547  14.938563  14.678464   \n",
       "iDR4_3_SPLUS-n01s01_0000220  150.436039 -0.703092  17.808803  17.216337   \n",
       "iDR4_3_SPLUS-n01s01_0000248  150.416858 -0.702641  17.522903  16.866583   \n",
       "...                                                      ...        ...   \n",
       "iDR4_3_STRIPE82-0170_0047436 358.244396  1.317788  18.973642  18.284042   \n",
       "iDR4_3_STRIPE82-0170_0047656 358.443639  1.319673  15.977774  15.279934   \n",
       "iDR4_3_STRIPE82-0170_0048158 358.291405  1.288510  14.519064  14.139961   \n",
       "iDR4_3_STRIPE82-0170_0048420 358.189227  1.301481  18.287372  17.730859   \n",
       "iDR4_3_STRIPE82-0170_0048706 359.198088  1.299004  13.927850  13.497025   \n",
       "\n",
       "                                                      J430_0        g_0  \\\n",
       "ID                           RA_SPLUS   DEC_SPLUS                         \n",
       "iDR4_3_SPLUS-n01s01_0000103  150.174918 -0.707248  17.745170  17.453267   \n",
       "iDR4_3_SPLUS-n01s01_0000131  150.247784 -0.706343  16.960105  16.798380   \n",
       "iDR4_3_SPLUS-n01s01_0000200  150.966743 -0.705547  14.614623  14.519800   \n",
       "iDR4_3_SPLUS-n01s01_0000220  150.436039 -0.703092  17.137261  16.869861   \n",
       "iDR4_3_SPLUS-n01s01_0000248  150.416858 -0.702641  16.798515  16.354411   \n",
       "...                                                      ...        ...   \n",
       "iDR4_3_STRIPE82-0170_0047436 358.244396  1.317788  18.290215  17.841979   \n",
       "iDR4_3_STRIPE82-0170_0047656 358.443639  1.319673  15.188697  14.779653   \n",
       "iDR4_3_STRIPE82-0170_0048158 358.291405  1.288510  14.072554  13.942583   \n",
       "iDR4_3_STRIPE82-0170_0048420 358.189227  1.301481  17.621585  17.317281   \n",
       "iDR4_3_STRIPE82-0170_0048706 359.198088  1.299004  13.424134  13.231643   \n",
       "\n",
       "                                                      J515_0        r_0  \\\n",
       "ID                           RA_SPLUS   DEC_SPLUS                         \n",
       "iDR4_3_SPLUS-n01s01_0000103  150.174918 -0.707248  17.281794  16.996103   \n",
       "iDR4_3_SPLUS-n01s01_0000131  150.247784 -0.706343  16.634018  16.553750   \n",
       "iDR4_3_SPLUS-n01s01_0000200  150.966743 -0.705547  14.358354  14.258020   \n",
       "iDR4_3_SPLUS-n01s01_0000220  150.436039 -0.703092  16.693803  16.442250   \n",
       "iDR4_3_SPLUS-n01s01_0000248  150.416858 -0.702641  16.198380  15.784910   \n",
       "...                                                      ...        ...   \n",
       "iDR4_3_STRIPE82-0170_0047436 358.244396  1.317788  17.704608  17.396171   \n",
       "iDR4_3_STRIPE82-0170_0047656 358.443639  1.319673  14.595130  14.282482   \n",
       "iDR4_3_STRIPE82-0170_0048158 358.291405  1.288510  13.793976  13.681078   \n",
       "iDR4_3_STRIPE82-0170_0048420 358.189227  1.301481  17.125777  16.896661   \n",
       "iDR4_3_STRIPE82-0170_0048706 359.198088  1.299004  13.080536  12.963231   \n",
       "\n",
       "                                                      J660_0        i_0  ...  \\\n",
       "ID                           RA_SPLUS   DEC_SPLUS                        ...   \n",
       "iDR4_3_SPLUS-n01s01_0000103  150.174918 -0.707248  16.979660  16.878871  ...   \n",
       "iDR4_3_SPLUS-n01s01_0000131  150.247784 -0.706343  16.562136  16.524397  ...   \n",
       "iDR4_3_SPLUS-n01s01_0000200  150.966743 -0.705547  14.280045  14.259589  ...   \n",
       "iDR4_3_SPLUS-n01s01_0000220  150.436039 -0.703092  16.429073  16.330336  ...   \n",
       "iDR4_3_SPLUS-n01s01_0000248  150.416858 -0.702641  15.729709  15.614563  ...   \n",
       "...                                                      ...        ...  ...   \n",
       "iDR4_3_STRIPE82-0170_0047436 358.244396  1.317788  17.388831  17.271604  ...   \n",
       "iDR4_3_STRIPE82-0170_0047656 358.443639  1.319673  14.243314  14.105358  ...   \n",
       "iDR4_3_STRIPE82-0170_0048158 358.291405  1.288510  13.694912  13.620172  ...   \n",
       "iDR4_3_STRIPE82-0170_0048420 358.189227  1.301481  16.875269  16.739938  ...   \n",
       "iDR4_3_STRIPE82-0170_0048706 359.198088  1.299004  12.951431  12.924595  ...   \n",
       "\n",
       "                                                   feh_LAMOST_err  \\\n",
       "ID                           RA_SPLUS   DEC_SPLUS                   \n",
       "iDR4_3_SPLUS-n01s01_0000103  150.174918 -0.707248             NaN   \n",
       "iDR4_3_SPLUS-n01s01_0000131  150.247784 -0.706343           0.088   \n",
       "iDR4_3_SPLUS-n01s01_0000200  150.966743 -0.705547           0.058   \n",
       "iDR4_3_SPLUS-n01s01_0000220  150.436039 -0.703092             NaN   \n",
       "iDR4_3_SPLUS-n01s01_0000248  150.416858 -0.702641           0.051   \n",
       "...                                                           ...   \n",
       "iDR4_3_STRIPE82-0170_0047436 358.244396  1.317788           0.119   \n",
       "iDR4_3_STRIPE82-0170_0047656 358.443639  1.319673           0.062   \n",
       "iDR4_3_STRIPE82-0170_0048158 358.291405  1.288510           0.040   \n",
       "iDR4_3_STRIPE82-0170_0048420 358.189227  1.301481           0.112   \n",
       "iDR4_3_STRIPE82-0170_0048706 359.198088  1.299004           0.028   \n",
       "\n",
       "                                                   teff_LAMOST_recalibrated  \\\n",
       "ID                           RA_SPLUS   DEC_SPLUS                             \n",
       "iDR4_3_SPLUS-n01s01_0000103  150.174918 -0.707248                       NaN   \n",
       "iDR4_3_SPLUS-n01s01_0000131  150.247784 -0.706343                   6695.90   \n",
       "iDR4_3_SPLUS-n01s01_0000200  150.966743 -0.705547                   6596.29   \n",
       "iDR4_3_SPLUS-n01s01_0000220  150.436039 -0.703092                       NaN   \n",
       "iDR4_3_SPLUS-n01s01_0000248  150.416858 -0.702641                   5340.13   \n",
       "...                                                                     ...   \n",
       "iDR4_3_STRIPE82-0170_0047436 358.244396  1.317788                   5636.50   \n",
       "iDR4_3_STRIPE82-0170_0047656 358.443639  1.319673                   5591.32   \n",
       "iDR4_3_STRIPE82-0170_0048158 358.291405  1.288510                   6564.66   \n",
       "iDR4_3_STRIPE82-0170_0048420 358.189227  1.301481                   5797.38   \n",
       "iDR4_3_STRIPE82-0170_0048706 359.198088  1.299004                   6243.56   \n",
       "\n",
       "                                                   logg_LAMOST_recalibrated  \\\n",
       "ID                           RA_SPLUS   DEC_SPLUS                             \n",
       "iDR4_3_SPLUS-n01s01_0000103  150.174918 -0.707248                       NaN   \n",
       "iDR4_3_SPLUS-n01s01_0000131  150.247784 -0.706343                     3.986   \n",
       "iDR4_3_SPLUS-n01s01_0000200  150.966743 -0.705547                     3.741   \n",
       "iDR4_3_SPLUS-n01s01_0000220  150.436039 -0.703092                       NaN   \n",
       "iDR4_3_SPLUS-n01s01_0000248  150.416858 -0.702641                     4.454   \n",
       "...                                                                     ...   \n",
       "iDR4_3_STRIPE82-0170_0047436 358.244396  1.317788                     4.316   \n",
       "iDR4_3_STRIPE82-0170_0047656 358.443639  1.319673                     4.205   \n",
       "iDR4_3_STRIPE82-0170_0048158 358.291405  1.288510                     3.897   \n",
       "iDR4_3_STRIPE82-0170_0048420 358.189227  1.301481                     4.349   \n",
       "iDR4_3_STRIPE82-0170_0048706 359.198088  1.299004                     4.050   \n",
       "\n",
       "                                                   feh_LAMOST_recalibrated  \\\n",
       "ID                           RA_SPLUS   DEC_SPLUS                            \n",
       "iDR4_3_SPLUS-n01s01_0000103  150.174918 -0.707248                      NaN   \n",
       "iDR4_3_SPLUS-n01s01_0000131  150.247784 -0.706343                   -0.575   \n",
       "iDR4_3_SPLUS-n01s01_0000200  150.966743 -0.705547                   -0.471   \n",
       "iDR4_3_SPLUS-n01s01_0000220  150.436039 -0.703092                      NaN   \n",
       "iDR4_3_SPLUS-n01s01_0000248  150.416858 -0.702641                   -0.703   \n",
       "...                                                                    ...   \n",
       "iDR4_3_STRIPE82-0170_0047436 358.244396  1.317788                   -0.692   \n",
       "iDR4_3_STRIPE82-0170_0047656 358.443639  1.319673                   -0.122   \n",
       "iDR4_3_STRIPE82-0170_0048158 358.291405  1.288510                   -0.647   \n",
       "iDR4_3_STRIPE82-0170_0048420 358.189227  1.301481                   -0.592   \n",
       "iDR4_3_STRIPE82-0170_0048706 359.198088  1.299004                   -0.668   \n",
       "\n",
       "                                                   teff_training  \\\n",
       "ID                           RA_SPLUS   DEC_SPLUS                  \n",
       "iDR4_3_SPLUS-n01s01_0000103  150.174918 -0.707248           5777   \n",
       "iDR4_3_SPLUS-n01s01_0000131  150.247784 -0.706343           6567   \n",
       "iDR4_3_SPLUS-n01s01_0000200  150.966743 -0.705547           6683   \n",
       "iDR4_3_SPLUS-n01s01_0000220  150.436039 -0.703092           5847   \n",
       "iDR4_3_SPLUS-n01s01_0000248  150.416858 -0.702641           5280   \n",
       "...                                                          ...   \n",
       "iDR4_3_STRIPE82-0170_0047436 358.244396  1.317788           5637   \n",
       "iDR4_3_STRIPE82-0170_0047656 358.443639  1.319673           5591   \n",
       "iDR4_3_STRIPE82-0170_0048158 358.291405  1.288510           6565   \n",
       "iDR4_3_STRIPE82-0170_0048420 358.189227  1.301481           5797   \n",
       "iDR4_3_STRIPE82-0170_0048706 359.198088  1.299004           6244   \n",
       "\n",
       "                                                   teff_training_err  \\\n",
       "ID                           RA_SPLUS   DEC_SPLUS                      \n",
       "iDR4_3_SPLUS-n01s01_0000103  150.174918 -0.707248                  9   \n",
       "iDR4_3_SPLUS-n01s01_0000131  150.247784 -0.706343                 18   \n",
       "iDR4_3_SPLUS-n01s01_0000200  150.966743 -0.705547                 17   \n",
       "iDR4_3_SPLUS-n01s01_0000220  150.436039 -0.703092                 46   \n",
       "iDR4_3_SPLUS-n01s01_0000248  150.416858 -0.702641                 38   \n",
       "...                                                              ...   \n",
       "iDR4_3_STRIPE82-0170_0047436 358.244396  1.317788                109   \n",
       "iDR4_3_STRIPE82-0170_0047656 358.443639  1.319673                 59   \n",
       "iDR4_3_STRIPE82-0170_0048158 358.291405  1.288510                 43   \n",
       "iDR4_3_STRIPE82-0170_0048420 358.189227  1.301481                105   \n",
       "iDR4_3_STRIPE82-0170_0048706 359.198088  1.299004                 33   \n",
       "\n",
       "                                                   logg_training  \\\n",
       "ID                           RA_SPLUS   DEC_SPLUS                  \n",
       "iDR4_3_SPLUS-n01s01_0000103  150.174918 -0.707248           4.27   \n",
       "iDR4_3_SPLUS-n01s01_0000131  150.247784 -0.706343           3.82   \n",
       "iDR4_3_SPLUS-n01s01_0000200  150.966743 -0.705547           3.81   \n",
       "iDR4_3_SPLUS-n01s01_0000220  150.436039 -0.703092           4.08   \n",
       "iDR4_3_SPLUS-n01s01_0000248  150.416858 -0.702641           4.49   \n",
       "...                                                          ...   \n",
       "iDR4_3_STRIPE82-0170_0047436 358.244396  1.317788           4.32   \n",
       "iDR4_3_STRIPE82-0170_0047656 358.443639  1.319673           4.21   \n",
       "iDR4_3_STRIPE82-0170_0048158 358.291405  1.288510           3.90   \n",
       "iDR4_3_STRIPE82-0170_0048420 358.189227  1.301481           4.35   \n",
       "iDR4_3_STRIPE82-0170_0048706 359.198088  1.299004           4.05   \n",
       "\n",
       "                                                   logg_training_err  \\\n",
       "ID                           RA_SPLUS   DEC_SPLUS                      \n",
       "iDR4_3_SPLUS-n01s01_0000103  150.174918 -0.707248               0.05   \n",
       "iDR4_3_SPLUS-n01s01_0000131  150.247784 -0.706343               0.06   \n",
       "iDR4_3_SPLUS-n01s01_0000200  150.966743 -0.705547               0.06   \n",
       "iDR4_3_SPLUS-n01s01_0000220  150.436039 -0.703092               0.04   \n",
       "iDR4_3_SPLUS-n01s01_0000248  150.416858 -0.702641               0.06   \n",
       "...                                                              ...   \n",
       "iDR4_3_STRIPE82-0170_0047436 358.244396  1.317788               0.18   \n",
       "iDR4_3_STRIPE82-0170_0047656 358.443639  1.319673               0.09   \n",
       "iDR4_3_STRIPE82-0170_0048158 358.291405  1.288510               0.06   \n",
       "iDR4_3_STRIPE82-0170_0048420 358.189227  1.301481               0.17   \n",
       "iDR4_3_STRIPE82-0170_0048706 359.198088  1.299004               0.05   \n",
       "\n",
       "                                                   feh_training  \\\n",
       "ID                           RA_SPLUS   DEC_SPLUS                 \n",
       "iDR4_3_SPLUS-n01s01_0000103  150.174918 -0.707248         -0.42   \n",
       "iDR4_3_SPLUS-n01s01_0000131  150.247784 -0.706343         -0.53   \n",
       "iDR4_3_SPLUS-n01s01_0000200  150.966743 -0.705547         -0.35   \n",
       "iDR4_3_SPLUS-n01s01_0000220  150.436039 -0.703092         -0.31   \n",
       "iDR4_3_SPLUS-n01s01_0000248  150.416858 -0.702641         -0.84   \n",
       "...                                                         ...   \n",
       "iDR4_3_STRIPE82-0170_0047436 358.244396  1.317788         -0.69   \n",
       "iDR4_3_STRIPE82-0170_0047656 358.443639  1.319673         -0.12   \n",
       "iDR4_3_STRIPE82-0170_0048158 358.291405  1.288510         -0.65   \n",
       "iDR4_3_STRIPE82-0170_0048420 358.189227  1.301481         -0.59   \n",
       "iDR4_3_STRIPE82-0170_0048706 359.198088  1.299004         -0.67   \n",
       "\n",
       "                                                   feh_training_err  \n",
       "ID                           RA_SPLUS   DEC_SPLUS                    \n",
       "iDR4_3_SPLUS-n01s01_0000103  150.174918 -0.707248              0.04  \n",
       "iDR4_3_SPLUS-n01s01_0000131  150.247784 -0.706343              0.03  \n",
       "iDR4_3_SPLUS-n01s01_0000200  150.966743 -0.705547              0.02  \n",
       "iDR4_3_SPLUS-n01s01_0000220  150.436039 -0.703092              0.02  \n",
       "iDR4_3_SPLUS-n01s01_0000248  150.416858 -0.702641              0.05  \n",
       "...                                                             ...  \n",
       "iDR4_3_STRIPE82-0170_0047436 358.244396  1.317788              0.12  \n",
       "iDR4_3_STRIPE82-0170_0047656 358.443639  1.319673              0.06  \n",
       "iDR4_3_STRIPE82-0170_0048158 358.291405  1.288510              0.04  \n",
       "iDR4_3_STRIPE82-0170_0048420 358.189227  1.301481              0.11  \n",
       "iDR4_3_STRIPE82-0170_0048706 359.198088  1.299004              0.03  \n",
       "\n",
       "[89660 rows x 116 columns]"
      ]
     },
     "execution_count": 3,
     "metadata": {},
     "output_type": "execute_result"
    }
   ],
   "source": [
    "csv"
   ]
  },
  {
   "cell_type": "code",
   "execution_count": null,
   "id": "799e2827",
   "metadata": {},
   "outputs": [],
   "source": []
  },
  {
   "cell_type": "code",
   "execution_count": null,
   "id": "753568fa",
   "metadata": {},
   "outputs": [],
   "source": []
  },
  {
   "cell_type": "code",
   "execution_count": null,
   "id": "86d863c1",
   "metadata": {},
   "outputs": [],
   "source": []
  },
  {
   "cell_type": "code",
   "execution_count": 64,
   "id": "e52035a7",
   "metadata": {},
   "outputs": [],
   "source": [
    "def cap_outliers(df, column):\n",
    "    \"\"\"Remove outliers.\n",
    "    Args:\n",
    "        df (pd.DataFrame): DataFrame\n",
    "        column (str): column name to remove outliers\n",
    "    Returns:\n",
    "        pd.DataFrame: Update dataframe.\n",
    "    \"\"\"    \n",
    "    upper = df[column].mean() + 3*df[column].std()\n",
    "    down = df[column].mean() - 3*df[column].std()\n",
    "\n",
    "    df[(df[column] > upper) | (df[column] < down)]\n",
    "\n",
    "    df[column] = np.where(\n",
    "        df[column]>upper,\n",
    "        upper,\n",
    "        np.where(\n",
    "            df[column]<down,\n",
    "            down,\n",
    "            df[column]\n",
    "        )\n",
    "    )\n",
    "    \n",
    "    return df"
   ]
  },
  {
   "cell_type": "code",
   "execution_count": null,
   "id": "78eb55ce",
   "metadata": {},
   "outputs": [],
   "source": []
  },
  {
   "cell_type": "code",
   "execution_count": null,
   "id": "b8a83175",
   "metadata": {},
   "outputs": [],
   "source": []
  },
  {
   "cell_type": "code",
   "execution_count": null,
   "id": "ee7d52c7",
   "metadata": {},
   "outputs": [],
   "source": []
  },
  {
   "cell_type": "code",
   "execution_count": null,
   "id": "1c2c60ff",
   "metadata": {},
   "outputs": [],
   "source": []
  },
  {
   "cell_type": "code",
   "execution_count": null,
   "id": "f0219d4f",
   "metadata": {},
   "outputs": [],
   "source": []
  },
  {
   "cell_type": "markdown",
   "id": "0a72590a",
   "metadata": {},
   "source": [
    "### Segue"
   ]
  },
  {
   "cell_type": "code",
   "execution_count": 11,
   "id": "9cb9c130",
   "metadata": {},
   "outputs": [],
   "source": [
    "xtrain = csv.loc[(csv['SNR_SEGUE']>10) & \n",
    "                 (csv['teff_SEGUE']>4000) & \n",
    "                 (csv['teff_SEGUE']<7000),\n",
    "                 ['u_0', 'J378_0', 'J395_0', \n",
    "                 'J410_0', 'J430_0', 'g_0', \n",
    "                 'J515_0', 'r_0', 'J660_0', \n",
    "                 'i_0', 'J861_0', 'z_0']]"
   ]
  },
  {
   "cell_type": "code",
   "execution_count": 12,
   "id": "1e6512c1",
   "metadata": {},
   "outputs": [],
   "source": [
    "ytrain = csv.loc[(csv['SNR_SEGUE']>10) & \n",
    "                 (csv['teff_SEGUE']>4000) & \n",
    "                 (csv['teff_SEGUE']<7000),\n",
    "                 ['teff_training']]"
   ]
  },
  {
   "cell_type": "markdown",
   "id": "3597cc3a",
   "metadata": {},
   "source": [
    "### Lamost"
   ]
  },
  {
   "cell_type": "code",
   "execution_count": 20,
   "id": "11d4e6ab",
   "metadata": {},
   "outputs": [],
   "source": [
    "xtrain = csv.loc[(csv['SNRg_LAMOST']>10) & \n",
    "                 (csv['SNRi_LAMOST']>10) & \n",
    "                 (csv['SNRz_LAMOST']>10) & \n",
    "                 (csv['SNRr_LAMOST']>10) & \n",
    "                 (csv['teff_LAMOST']>4000) & \n",
    "                 (csv['teff_LAMOST']<7000),\n",
    "                 ['u_0', 'J378_0', 'J395_0', \n",
    "                 'J410_0', 'J430_0', 'g_0', \n",
    "                 'J515_0', 'r_0', 'J660_0', \n",
    "                 'i_0', 'J861_0', 'z_0']]"
   ]
  },
  {
   "cell_type": "code",
   "execution_count": 21,
   "id": "dd59caab",
   "metadata": {},
   "outputs": [],
   "source": [
    "ytrain = csv.loc[(csv['SNRg_LAMOST']>10) & \n",
    "                 (csv['SNRi_LAMOST']>10) & \n",
    "                 (csv['SNRz_LAMOST']>10) & \n",
    "                 (csv['SNRr_LAMOST']>10) & \n",
    "                 (csv['teff_LAMOST']>4000) & \n",
    "                 (csv['teff_LAMOST']<7000),\n",
    "                 ['teff_training']]"
   ]
  },
  {
   "cell_type": "markdown",
   "id": "a6f1045a",
   "metadata": {},
   "source": [
    "#### Cap outliers"
   ]
  },
  {
   "cell_type": "code",
   "execution_count": 104,
   "id": "dbc4fdcf",
   "metadata": {},
   "outputs": [],
   "source": [
    "xtraincap = pd.DataFrame()\n",
    "\n",
    "for column in xtrain:\n",
    "    xtrain = cap_outliers(xtrain, column)\n",
    "    \n",
    "ytrain = cap_outliers(ytrain, 'teff_training')"
   ]
  },
  {
   "cell_type": "code",
   "execution_count": 28,
   "id": "80926a5c",
   "metadata": {},
   "outputs": [
    {
     "data": {
      "text/plain": [
       "(41704, 12)"
      ]
     },
     "execution_count": 28,
     "metadata": {},
     "output_type": "execute_result"
    }
   ],
   "source": [
    "x_train.shape"
   ]
  },
  {
   "cell_type": "code",
   "execution_count": 27,
   "id": "3291753b",
   "metadata": {},
   "outputs": [
    {
     "data": {
      "text/plain": [
       "(41704, 1)"
      ]
     },
     "execution_count": 27,
     "metadata": {},
     "output_type": "execute_result"
    }
   ],
   "source": [
    "y_train.shape"
   ]
  },
  {
   "cell_type": "code",
   "execution_count": 22,
   "id": "b6aaf175",
   "metadata": {},
   "outputs": [],
   "source": [
    "train_x= encoder.encode_DataFrame(xtrain, \"lamost\")#The input vector: 13 stellar colors; For example, it is an array with the shape of (189654,13);\n",
    "\n",
    "train_y= encoder.encode_DataFrame(ytrain, 'teff_training')"
   ]
  },
  {
   "cell_type": "code",
   "execution_count": 23,
   "id": "b4b73dde",
   "metadata": {},
   "outputs": [],
   "source": [
    "# Separando a base para treino e para teste\n",
    "x_train, x_test, y_train, y_test = train_test_split(train_x, train_y, test_size=0.2, random_state=11085)"
   ]
  },
  {
   "cell_type": "code",
   "execution_count": 44,
   "id": "18d368bf",
   "metadata": {
    "collapsed": true
   },
   "outputs": [
    {
     "ename": "ValueError",
     "evalue": "Some value(s) of y are out of the valid range of the loss 'HalfGammaLoss'.",
     "output_type": "error",
     "traceback": [
      "\u001b[1;31m---------------------------------------------------------------------------\u001b[0m",
      "\u001b[1;31mValueError\u001b[0m                                Traceback (most recent call last)",
      "Cell \u001b[1;32mIn [44], line 12\u001b[0m\n\u001b[0;32m      1\u001b[0m \u001b[38;5;66;03m#teff = LinearRegression()\u001b[39;00m\n\u001b[0;32m      2\u001b[0m \u001b[38;5;66;03m#teff = DecisionTreeRegressor()\u001b[39;00m\n\u001b[0;32m      3\u001b[0m \u001b[38;5;66;03m#teff = RandomForestRegressor()\u001b[39;00m\n\u001b[1;32m   (...)\u001b[0m\n\u001b[0;32m      8\u001b[0m \u001b[38;5;66;03m#teff = GradientBoostingRegressor(random_state=0)\u001b[39;00m\n\u001b[0;32m      9\u001b[0m \u001b[38;5;66;03m#teff = HistGradientBoostingRegressor()\u001b[39;00m\n\u001b[0;32m     10\u001b[0m teff \u001b[38;5;241m=\u001b[39m linear_model\u001b[38;5;241m.\u001b[39mGammaRegressor()\n\u001b[1;32m---> 12\u001b[0m \u001b[43mteff\u001b[49m\u001b[38;5;241;43m.\u001b[39;49m\u001b[43mfit\u001b[49m\u001b[43m(\u001b[49m\u001b[43mx_train\u001b[49m\u001b[43m,\u001b[49m\u001b[43m \u001b[49m\u001b[43my_train\u001b[49m\u001b[43m)\u001b[49m\n",
      "File \u001b[1;32m~\\Envs\\analiseIC\\lib\\site-packages\\sklearn\\linear_model\\_glm\\glm.py:239\u001b[0m, in \u001b[0;36m_GeneralizedLinearRegressor.fit\u001b[1;34m(self, X, y, sample_weight)\u001b[0m\n\u001b[0;32m    233\u001b[0m linear_loss \u001b[38;5;241m=\u001b[39m LinearModelLoss(\n\u001b[0;32m    234\u001b[0m     base_loss\u001b[38;5;241m=\u001b[39m\u001b[38;5;28mself\u001b[39m\u001b[38;5;241m.\u001b[39m_base_loss,\n\u001b[0;32m    235\u001b[0m     fit_intercept\u001b[38;5;241m=\u001b[39m\u001b[38;5;28mself\u001b[39m\u001b[38;5;241m.\u001b[39mfit_intercept,\n\u001b[0;32m    236\u001b[0m )\n\u001b[0;32m    238\u001b[0m \u001b[38;5;28;01mif\u001b[39;00m \u001b[38;5;129;01mnot\u001b[39;00m linear_loss\u001b[38;5;241m.\u001b[39mbase_loss\u001b[38;5;241m.\u001b[39min_y_true_range(y):\n\u001b[1;32m--> 239\u001b[0m     \u001b[38;5;28;01mraise\u001b[39;00m \u001b[38;5;167;01mValueError\u001b[39;00m(\n\u001b[0;32m    240\u001b[0m         \u001b[38;5;124m\"\u001b[39m\u001b[38;5;124mSome value(s) of y are out of the valid range of the loss\u001b[39m\u001b[38;5;124m\"\u001b[39m\n\u001b[0;32m    241\u001b[0m         \u001b[38;5;124mf\u001b[39m\u001b[38;5;124m\"\u001b[39m\u001b[38;5;124m \u001b[39m\u001b[38;5;132;01m{\u001b[39;00m\u001b[38;5;28mself\u001b[39m\u001b[38;5;241m.\u001b[39m_base_loss\u001b[38;5;241m.\u001b[39m\u001b[38;5;18m__class__\u001b[39m\u001b[38;5;241m.\u001b[39m\u001b[38;5;18m__name__\u001b[39m\u001b[38;5;132;01m!r}\u001b[39;00m\u001b[38;5;124m.\u001b[39m\u001b[38;5;124m\"\u001b[39m\n\u001b[0;32m    242\u001b[0m     )\n\u001b[0;32m    244\u001b[0m \u001b[38;5;66;03m# TODO: if alpha=0 check that X is not rank deficient\u001b[39;00m\n\u001b[0;32m    245\u001b[0m \n\u001b[0;32m    246\u001b[0m \u001b[38;5;66;03m# IMPORTANT NOTE: Rescaling of sample_weight:\u001b[39;00m\n\u001b[1;32m   (...)\u001b[0m\n\u001b[0;32m    254\u001b[0m \u001b[38;5;66;03m#     obj = sum(sample_weight * loss) + 1/2 * alpha * L2.\u001b[39;00m\n\u001b[0;32m    255\u001b[0m \u001b[38;5;66;03m# Note that LinearModelLoss.loss() computes sum(sample_weight * loss).\u001b[39;00m\n\u001b[0;32m    256\u001b[0m sample_weight \u001b[38;5;241m=\u001b[39m sample_weight \u001b[38;5;241m/\u001b[39m sample_weight\u001b[38;5;241m.\u001b[39msum()\n",
      "\u001b[1;31mValueError\u001b[0m: Some value(s) of y are out of the valid range of the loss 'HalfGammaLoss'."
     ]
    }
   ],
   "source": [
    "#teff = LinearRegression()\n",
    "#teff = DecisionTreeRegressor()\n",
    "#teff = RandomForestRegressor()\n",
    "#teff = SGDRegressor(max_iter=1, tol=-np.infty, warm_start=True, penalty=None, learning_rate=\"constant\", eta0=0.0005)\n",
    "#teff = GradientBoostingRegressor(random_state=11085)\n",
    "#teff = ExtraTreesRegressor(n_estimators=100, random_state=11085)\n",
    "#teff = BaggingRegressor(n_estimators=10, random_state=0)\n",
    "#teff = GradientBoostingRegressor(random_state=0)\n",
    "#teff = HistGradientBoostingRegressor()\n",
    "\n",
    "teff.fit(x_train, y_train)"
   ]
  },
  {
   "cell_type": "code",
   "execution_count": 37,
   "id": "50cdadd1",
   "metadata": {},
   "outputs": [],
   "source": [
    "predteff = teff.predict(x_test)"
   ]
  },
  {
   "cell_type": "code",
   "execution_count": 38,
   "id": "852e64c0",
   "metadata": {},
   "outputs": [
    {
     "data": {
      "text/plain": [
       "Text(0, 0.5, 'Y_test')"
      ]
     },
     "execution_count": 38,
     "metadata": {},
     "output_type": "execute_result"
    },
    {
     "data": {
      "image/png": "[encoded data removed]",
      "text/plain": [
       "<Figure size 640x480 with 1 Axes>"
      ]
     },
     "metadata": {},
     "output_type": "display_data"
    }
   ],
   "source": [
    "# plota o pred de acordo com o Y_test (teff)\n",
    "plt.scatter(predteff, y_test, s=1)\n",
    "plt.xlim(-1, 1)\n",
    "plt.ylim(-1, 1)\n",
    "plt.xlabel('Predict test')\n",
    "plt.ylabel('Y_test')"
   ]
  },
  {
   "cell_type": "code",
   "execution_count": 39,
   "id": "3b71f29f",
   "metadata": {
    "collapsed": true
   },
   "outputs": [
    {
     "ename": "TypeError",
     "evalue": "No matching signature found",
     "output_type": "error",
     "traceback": [
      "\u001b[1;31m---------------------------------------------------------------------------\u001b[0m",
      "\u001b[1;31mTypeError\u001b[0m                                 Traceback (most recent call last)",
      "Cell \u001b[1;32mIn [39], line 1\u001b[0m\n\u001b[1;32m----> 1\u001b[0m \u001b[43mteff\u001b[49m\u001b[38;5;241;43m.\u001b[39;49m\u001b[43mscore\u001b[49m\u001b[43m(\u001b[49m\u001b[43mx_test\u001b[49m\u001b[43m,\u001b[49m\u001b[43m \u001b[49m\u001b[43my_test\u001b[49m\u001b[43m)\u001b[49m\n",
      "File \u001b[1;32m~\\Envs\\analiseIC\\lib\\site-packages\\sklearn\\linear_model\\_glm\\glm.py:411\u001b[0m, in \u001b[0;36m_GeneralizedLinearRegressor.score\u001b[1;34m(self, X, y, sample_weight)\u001b[0m\n\u001b[0;32m    408\u001b[0m     constant \u001b[38;5;241m*\u001b[39m\u001b[38;5;241m=\u001b[39m sample_weight\u001b[38;5;241m.\u001b[39mshape[\u001b[38;5;241m0\u001b[39m] \u001b[38;5;241m/\u001b[39m np\u001b[38;5;241m.\u001b[39msum(sample_weight)\n\u001b[0;32m    410\u001b[0m \u001b[38;5;66;03m# Missing factor of 2 in deviance cancels out.\u001b[39;00m\n\u001b[1;32m--> 411\u001b[0m deviance \u001b[38;5;241m=\u001b[39m \u001b[43mbase_loss\u001b[49m\u001b[43m(\u001b[49m\n\u001b[0;32m    412\u001b[0m \u001b[43m    \u001b[49m\u001b[43my_true\u001b[49m\u001b[38;5;241;43m=\u001b[39;49m\u001b[43my\u001b[49m\u001b[43m,\u001b[49m\n\u001b[0;32m    413\u001b[0m \u001b[43m    \u001b[49m\u001b[43mraw_prediction\u001b[49m\u001b[38;5;241;43m=\u001b[39;49m\u001b[43mraw_prediction\u001b[49m\u001b[43m,\u001b[49m\n\u001b[0;32m    414\u001b[0m \u001b[43m    \u001b[49m\u001b[43msample_weight\u001b[49m\u001b[38;5;241;43m=\u001b[39;49m\u001b[43msample_weight\u001b[49m\u001b[43m,\u001b[49m\n\u001b[0;32m    415\u001b[0m \u001b[43m    \u001b[49m\u001b[43mn_threads\u001b[49m\u001b[38;5;241;43m=\u001b[39;49m\u001b[38;5;241;43m1\u001b[39;49m\u001b[43m,\u001b[49m\n\u001b[0;32m    416\u001b[0m \u001b[43m\u001b[49m\u001b[43m)\u001b[49m\n\u001b[0;32m    417\u001b[0m y_mean \u001b[38;5;241m=\u001b[39m base_loss\u001b[38;5;241m.\u001b[39mlink\u001b[38;5;241m.\u001b[39mlink(np\u001b[38;5;241m.\u001b[39maverage(y, weights\u001b[38;5;241m=\u001b[39msample_weight))\n\u001b[0;32m    418\u001b[0m deviance_null \u001b[38;5;241m=\u001b[39m base_loss(\n\u001b[0;32m    419\u001b[0m     y_true\u001b[38;5;241m=\u001b[39my,\n\u001b[0;32m    420\u001b[0m     raw_prediction\u001b[38;5;241m=\u001b[39mnp\u001b[38;5;241m.\u001b[39mtile(y_mean, y\u001b[38;5;241m.\u001b[39mshape[\u001b[38;5;241m0\u001b[39m]),\n\u001b[0;32m    421\u001b[0m     sample_weight\u001b[38;5;241m=\u001b[39msample_weight,\n\u001b[0;32m    422\u001b[0m     n_threads\u001b[38;5;241m=\u001b[39m\u001b[38;5;241m1\u001b[39m,\n\u001b[0;32m    423\u001b[0m )\n",
      "File \u001b[1;32m~\\Envs\\analiseIC\\lib\\site-packages\\sklearn\\_loss\\loss.py:408\u001b[0m, in \u001b[0;36mBaseLoss.__call__\u001b[1;34m(self, y_true, raw_prediction, sample_weight, n_threads)\u001b[0m\n\u001b[0;32m    387\u001b[0m \u001b[38;5;28;01mdef\u001b[39;00m \u001b[38;5;21m__call__\u001b[39m(\u001b[38;5;28mself\u001b[39m, y_true, raw_prediction, sample_weight\u001b[38;5;241m=\u001b[39m\u001b[38;5;28;01mNone\u001b[39;00m, n_threads\u001b[38;5;241m=\u001b[39m\u001b[38;5;241m1\u001b[39m):\n\u001b[0;32m    388\u001b[0m     \u001b[38;5;124;03m\"\"\"Compute the weighted average loss.\u001b[39;00m\n\u001b[0;32m    389\u001b[0m \n\u001b[0;32m    390\u001b[0m \u001b[38;5;124;03m    Parameters\u001b[39;00m\n\u001b[1;32m   (...)\u001b[0m\n\u001b[0;32m    405\u001b[0m \u001b[38;5;124;03m        Mean or averaged loss function.\u001b[39;00m\n\u001b[0;32m    406\u001b[0m \u001b[38;5;124;03m    \"\"\"\u001b[39;00m\n\u001b[0;32m    407\u001b[0m     \u001b[38;5;28;01mreturn\u001b[39;00m np\u001b[38;5;241m.\u001b[39maverage(\n\u001b[1;32m--> 408\u001b[0m         \u001b[38;5;28;43mself\u001b[39;49m\u001b[38;5;241;43m.\u001b[39;49m\u001b[43mloss\u001b[49m\u001b[43m(\u001b[49m\n\u001b[0;32m    409\u001b[0m \u001b[43m            \u001b[49m\u001b[43my_true\u001b[49m\u001b[38;5;241;43m=\u001b[39;49m\u001b[43my_true\u001b[49m\u001b[43m,\u001b[49m\n\u001b[0;32m    410\u001b[0m \u001b[43m            \u001b[49m\u001b[43mraw_prediction\u001b[49m\u001b[38;5;241;43m=\u001b[39;49m\u001b[43mraw_prediction\u001b[49m\u001b[43m,\u001b[49m\n\u001b[0;32m    411\u001b[0m \u001b[43m            \u001b[49m\u001b[43msample_weight\u001b[49m\u001b[38;5;241;43m=\u001b[39;49m\u001b[38;5;28;43;01mNone\u001b[39;49;00m\u001b[43m,\u001b[49m\n\u001b[0;32m    412\u001b[0m \u001b[43m            \u001b[49m\u001b[43mloss_out\u001b[49m\u001b[38;5;241;43m=\u001b[39;49m\u001b[38;5;28;43;01mNone\u001b[39;49;00m\u001b[43m,\u001b[49m\n\u001b[0;32m    413\u001b[0m \u001b[43m            \u001b[49m\u001b[43mn_threads\u001b[49m\u001b[38;5;241;43m=\u001b[39;49m\u001b[43mn_threads\u001b[49m\u001b[43m,\u001b[49m\n\u001b[0;32m    414\u001b[0m \u001b[43m        \u001b[49m\u001b[43m)\u001b[49m,\n\u001b[0;32m    415\u001b[0m         weights\u001b[38;5;241m=\u001b[39msample_weight,\n\u001b[0;32m    416\u001b[0m     )\n",
      "File \u001b[1;32m~\\Envs\\analiseIC\\lib\\site-packages\\sklearn\\_loss\\loss.py:192\u001b[0m, in \u001b[0;36mBaseLoss.loss\u001b[1;34m(self, y_true, raw_prediction, sample_weight, loss_out, n_threads)\u001b[0m\n\u001b[0;32m    190\u001b[0m \u001b[38;5;28;01mif\u001b[39;00m sample_weight \u001b[38;5;129;01mis\u001b[39;00m \u001b[38;5;129;01mnot\u001b[39;00m \u001b[38;5;28;01mNone\u001b[39;00m:\n\u001b[0;32m    191\u001b[0m     sample_weight \u001b[38;5;241m=\u001b[39m ReadonlyArrayWrapper(sample_weight)\n\u001b[1;32m--> 192\u001b[0m \u001b[38;5;28;01mreturn\u001b[39;00m \u001b[38;5;28;43mself\u001b[39;49m\u001b[38;5;241;43m.\u001b[39;49m\u001b[43mcloss\u001b[49m\u001b[38;5;241;43m.\u001b[39;49m\u001b[43mloss\u001b[49m\u001b[43m(\u001b[49m\n\u001b[0;32m    193\u001b[0m \u001b[43m    \u001b[49m\u001b[43my_true\u001b[49m\u001b[38;5;241;43m=\u001b[39;49m\u001b[43my_true\u001b[49m\u001b[43m,\u001b[49m\n\u001b[0;32m    194\u001b[0m \u001b[43m    \u001b[49m\u001b[43mraw_prediction\u001b[49m\u001b[38;5;241;43m=\u001b[39;49m\u001b[43mraw_prediction\u001b[49m\u001b[43m,\u001b[49m\n\u001b[0;32m    195\u001b[0m \u001b[43m    \u001b[49m\u001b[43msample_weight\u001b[49m\u001b[38;5;241;43m=\u001b[39;49m\u001b[43msample_weight\u001b[49m\u001b[43m,\u001b[49m\n\u001b[0;32m    196\u001b[0m \u001b[43m    \u001b[49m\u001b[43mloss_out\u001b[49m\u001b[38;5;241;43m=\u001b[39;49m\u001b[43mloss_out\u001b[49m\u001b[43m,\u001b[49m\n\u001b[0;32m    197\u001b[0m \u001b[43m    \u001b[49m\u001b[43mn_threads\u001b[49m\u001b[38;5;241;43m=\u001b[39;49m\u001b[43mn_threads\u001b[49m\u001b[43m,\u001b[49m\n\u001b[0;32m    198\u001b[0m \u001b[43m\u001b[49m\u001b[43m)\u001b[49m\n",
      "File \u001b[1;32msklearn\\_loss\\_loss.pyx:1497\u001b[0m, in \u001b[0;36msklearn._loss._loss.CyHalfTweedieLossIdentity.__pyx_fused_cpdef\u001b[1;34m()\u001b[0m\n",
      "\u001b[1;31mTypeError\u001b[0m: No matching signature found"
     ]
    }
   ],
   "source": [
    "teff.score(x_test, y_test)"
   ]
  },
  {
   "cell_type": "code",
   "execution_count": 40,
   "id": "e3f37207",
   "metadata": {},
   "outputs": [
    {
     "name": "stdout",
     "output_type": "stream",
     "text": [
      "The accuracy of our model is 1.0%\n"
     ]
    }
   ],
   "source": [
    "score = r2_score(y_test, predteff)\n",
    "print(\"The accuracy of our model is {}%\".format(round(score, 2) *100))"
   ]
  },
  {
   "cell_type": "code",
   "execution_count": 41,
   "id": "ebe4fdcb",
   "metadata": {},
   "outputs": [
    {
     "name": "stdout",
     "output_type": "stream",
     "text": [
      "The Mean Absolute Error of our Model is 0.29\n"
     ]
    }
   ],
   "source": [
    "score = mean_absolute_error(y_test, predteff)\n",
    "print(\"The Mean Absolute Error of our Model is {}\".format(round(score, 2)))"
   ]
  },
  {
   "cell_type": "code",
   "execution_count": 42,
   "id": "da085fe8",
   "metadata": {},
   "outputs": [
    {
     "name": "stdout",
     "output_type": "stream",
     "text": [
      "The Mean Absolute Error of our Model is 0.54\n"
     ]
    }
   ],
   "source": [
    "score = np.sqrt(mean_absolute_error(y_test, predteff))\n",
    "print(\"The Mean Absolute Error of our Model is {}\".format(round(score, 2)))"
   ]
  },
  {
   "cell_type": "code",
   "execution_count": null,
   "id": "4e9d16f5",
   "metadata": {},
   "outputs": [],
   "source": []
  },
  {
   "cell_type": "code",
   "execution_count": null,
   "id": "5fbd7f36",
   "metadata": {},
   "outputs": [],
   "source": []
  },
  {
   "cell_type": "code",
   "execution_count": null,
   "id": "67cbe520",
   "metadata": {},
   "outputs": [],
   "source": []
  },
  {
   "cell_type": "code",
   "execution_count": null,
   "id": "a0c3eb9f",
   "metadata": {},
   "outputs": [],
   "source": []
  },
  {
   "cell_type": "code",
   "execution_count": null,
   "id": "7b01821c",
   "metadata": {},
   "outputs": [],
   "source": []
  },
  {
   "cell_type": "code",
   "execution_count": null,
   "id": "ace9418a",
   "metadata": {},
   "outputs": [],
   "source": []
  },
  {
   "cell_type": "code",
   "execution_count": null,
   "id": "f44339d8",
   "metadata": {},
   "outputs": [],
   "source": []
  },
  {
   "cell_type": "code",
   "execution_count": null,
   "id": "5439143c",
   "metadata": {},
   "outputs": [],
   "source": []
  },
  {
   "cell_type": "markdown",
   "id": "4a9e7819",
   "metadata": {},
   "source": [
    "## Logg"
   ]
  },
  {
   "cell_type": "markdown",
   "id": "621f508b",
   "metadata": {},
   "source": [
    "### Segue"
   ]
  },
  {
   "cell_type": "code",
   "execution_count": 55,
   "id": "4fd87e70",
   "metadata": {},
   "outputs": [],
   "source": [
    "xtrain = csv.loc[(csv['SNR_SEGUE']>10) & \n",
    "                 (csv['teff_SEGUE']>4000) & \n",
    "                 (csv['teff_SEGUE']<7000),\n",
    "                 ['u_0', 'J378_0', 'J395_0', \n",
    "                 'J410_0', 'J430_0', 'g_0', \n",
    "                 'J515_0', 'r_0', 'J660_0', \n",
    "                 'i_0', 'J861_0', 'z_0']]"
   ]
  },
  {
   "cell_type": "code",
   "execution_count": 56,
   "id": "eec8d3fb",
   "metadata": {},
   "outputs": [],
   "source": [
    "ytrain = csv.loc[(csv['SNR_SEGUE']>10) & \n",
    "                 (csv['teff_SEGUE']>4000) & \n",
    "                 (csv['teff_SEGUE']<7000),\n",
    "                 ['logg_training']]"
   ]
  },
  {
   "cell_type": "markdown",
   "id": "566db7fa",
   "metadata": {},
   "source": [
    "### Lamost"
   ]
  },
  {
   "cell_type": "code",
   "execution_count": 74,
   "id": "f4197810",
   "metadata": {},
   "outputs": [],
   "source": [
    "xtrain = csv.loc[(csv['SNRg_LAMOST']>10) & \n",
    "                 (csv['SNRi_LAMOST']>10) & \n",
    "                 (csv['SNRz_LAMOST']>10) & \n",
    "                 (csv['SNRr_LAMOST']>10) & \n",
    "                 (csv['teff_LAMOST']>4000) & \n",
    "                 (csv['teff_LAMOST']<7000),\n",
    "                 ['u_0', 'J378_0', 'J395_0', \n",
    "                 'J410_0', 'J430_0', 'g_0', \n",
    "                 'J515_0', 'r_0', 'J660_0', \n",
    "                 'i_0', 'J861_0', 'z_0']]"
   ]
  },
  {
   "cell_type": "code",
   "execution_count": 75,
   "id": "00009a71",
   "metadata": {},
   "outputs": [],
   "source": [
    "ytrain = csv.loc[(csv['SNRg_LAMOST']>10) & \n",
    "                 (csv['SNRi_LAMOST']>10) & \n",
    "                 (csv['SNRz_LAMOST']>10) & \n",
    "                 (csv['SNRr_LAMOST']>10) & \n",
    "                 (csv['teff_LAMOST']>4000) & \n",
    "                 (csv['teff_LAMOST']<7000),\n",
    "                 ['logg_training']]"
   ]
  },
  {
   "cell_type": "code",
   "execution_count": null,
   "id": "79727186",
   "metadata": {},
   "outputs": [],
   "source": []
  },
  {
   "cell_type": "code",
   "execution_count": 76,
   "id": "e1f2b0b7",
   "metadata": {},
   "outputs": [],
   "source": [
    "for column in xtrain:\n",
    "    xtrain = cap_outliers(xtrain, column)\n",
    "\n",
    "ytrain = cap_outliers(ytrain, 'logg_training')"
   ]
  },
  {
   "cell_type": "code",
   "execution_count": null,
   "id": "0b249089",
   "metadata": {},
   "outputs": [],
   "source": []
  },
  {
   "cell_type": "code",
   "execution_count": 57,
   "id": "2342e3cf",
   "metadata": {},
   "outputs": [],
   "source": [
    "train_x= encoder.encode_DataFrame(xtrain, \"lamost\")#The input vector: 12 stellar filters from splus; For example, it is an array with the shape of (189654,13);\n",
    "\n",
    "# train_y= encoder.encode_DataFrame(ytrain, 'teff_training')\n",
    "train_y= ytrain"
   ]
  },
  {
   "cell_type": "code",
   "execution_count": 58,
   "id": "10afa845",
   "metadata": {},
   "outputs": [],
   "source": [
    "x_train, x_test, y_train, y_test = train_test_split(train_x, train_y, test_size=0.2, random_state=11085)"
   ]
  },
  {
   "cell_type": "code",
   "execution_count": 87,
   "id": "a44abf26",
   "metadata": {},
   "outputs": [
    {
     "data": {
      "text/html": [
       "<style>#sk-container-id-12 {color: black;background-color: white;}#sk-container-id-12 pre{padding: 0;}#sk-container-id-12 div.sk-toggleable {background-color: white;}#sk-container-id-12 label.sk-toggleable__label {cursor: pointer;display: block;width: 100%;margin-bottom: 0;padding: 0.3em;box-sizing: border-box;text-align: center;}#sk-container-id-12 label.sk-toggleable__label-arrow:before {content: \"▸\";float: left;margin-right: 0.25em;color: #696969;}#sk-container-id-12 label.sk-toggleable__label-arrow:hover:before {color: black;}#sk-container-id-12 div.sk-estimator:hover label.sk-toggleable__label-arrow:before {color: black;}#sk-container-id-12 div.sk-toggleable__content {max-height: 0;max-width: 0;overflow: hidden;text-align: left;background-color: #f0f8ff;}#sk-container-id-12 div.sk-toggleable__content pre {margin: 0.2em;color: black;border-radius: 0.25em;background-color: #f0f8ff;}#sk-container-id-12 input.sk-toggleable__control:checked~div.sk-toggleable__content {max-height: 200px;max-width: 100%;overflow: auto;}#sk-container-id-12 input.sk-toggleable__control:checked~label.sk-toggleable__label-arrow:before {content: \"▾\";}#sk-container-id-12 div.sk-estimator input.sk-toggleable__control:checked~label.sk-toggleable__label {background-color: #d4ebff;}#sk-container-id-12 div.sk-label input.sk-toggleable__control:checked~label.sk-toggleable__label {background-color: #d4ebff;}#sk-container-id-12 input.sk-hidden--visually {border: 0;clip: rect(1px 1px 1px 1px);clip: rect(1px, 1px, 1px, 1px);height: 1px;margin: -1px;overflow: hidden;padding: 0;position: absolute;width: 1px;}#sk-container-id-12 div.sk-estimator {font-family: monospace;background-color: #f0f8ff;border: 1px dotted black;border-radius: 0.25em;box-sizing: border-box;margin-bottom: 0.5em;}#sk-container-id-12 div.sk-estimator:hover {background-color: #d4ebff;}#sk-container-id-12 div.sk-parallel-item::after {content: \"\";width: 100%;border-bottom: 1px solid gray;flex-grow: 1;}#sk-container-id-12 div.sk-label:hover label.sk-toggleable__label {background-color: #d4ebff;}#sk-container-id-12 div.sk-serial::before {content: \"\";position: absolute;border-left: 1px solid gray;box-sizing: border-box;top: 0;bottom: 0;left: 50%;z-index: 0;}#sk-container-id-12 div.sk-serial {display: flex;flex-direction: column;align-items: center;background-color: white;padding-right: 0.2em;padding-left: 0.2em;position: relative;}#sk-container-id-12 div.sk-item {position: relative;z-index: 1;}#sk-container-id-12 div.sk-parallel {display: flex;align-items: stretch;justify-content: center;background-color: white;position: relative;}#sk-container-id-12 div.sk-item::before, #sk-container-id-12 div.sk-parallel-item::before {content: \"\";position: absolute;border-left: 1px solid gray;box-sizing: border-box;top: 0;bottom: 0;left: 50%;z-index: -1;}#sk-container-id-12 div.sk-parallel-item {display: flex;flex-direction: column;z-index: 1;position: relative;background-color: white;}#sk-container-id-12 div.sk-parallel-item:first-child::after {align-self: flex-end;width: 50%;}#sk-container-id-12 div.sk-parallel-item:last-child::after {align-self: flex-start;width: 50%;}#sk-container-id-12 div.sk-parallel-item:only-child::after {width: 0;}#sk-container-id-12 div.sk-dashed-wrapped {border: 1px dashed gray;margin: 0 0.4em 0.5em 0.4em;box-sizing: border-box;padding-bottom: 0.4em;background-color: white;}#sk-container-id-12 div.sk-label label {font-family: monospace;font-weight: bold;display: inline-block;line-height: 1.2em;}#sk-container-id-12 div.sk-label-container {text-align: center;}#sk-container-id-12 div.sk-container {/* jupyter's `normalize.less` sets `[hidden] { display: none; }` but bootstrap.min.css set `[hidden] { display: none !important; }` so we also need the `!important` here to be able to override the default hidden behavior on the sphinx rendered scikit-learn.org. See: https://github.com/scikit-learn/scikit-learn/issues/21755 */display: inline-block !important;position: relative;}#sk-container-id-12 div.sk-text-repr-fallback {display: none;}</style><div id=\"sk-container-id-12\" class=\"sk-top-container\"><div class=\"sk-text-repr-fallback\"><pre>HistGradientBoostingRegressor()</pre><b>In a Jupyter environment, please rerun this cell to show the HTML representation or trust the notebook. <br />On GitHub, the HTML representation is unable to render, please try loading this page with nbviewer.org.</b></div><div class=\"sk-container\" hidden><div class=\"sk-item\"><div class=\"sk-estimator sk-toggleable\"><input class=\"sk-toggleable__control sk-hidden--visually\" id=\"sk-estimator-id-12\" type=\"checkbox\" checked><label for=\"sk-estimator-id-12\" class=\"sk-toggleable__label sk-toggleable__label-arrow\">HistGradientBoostingRegressor</label><div class=\"sk-toggleable__content\"><pre>HistGradientBoostingRegressor()</pre></div></div></div></div></div>"
      ],
      "text/plain": [
       "HistGradientBoostingRegressor()"
      ]
     },
     "execution_count": 87,
     "metadata": {},
     "output_type": "execute_result"
    }
   ],
   "source": [
    "#logg = LinearRegression()\n",
    "#logg = DecisionTreeRegressor()\n",
    "#logg = RandomForestRegressor()\n",
    "#logg = SGDRegressor(max_iter=1, tol=-np.infty, warm_start=True, penalty=None, learning_rate=\"constant\", eta0=0.0005)\n",
    "#logg = GradientBoostingRegressor(random_state=11085)\n",
    "#logg = ExtraTreesRegressor(n_estimators=100, random_state=11085)\n",
    "#logg = BaggingRegressor(n_estimators=10, random_state=11085)\n",
    "#logg = GradientBoostingRegressor(random_state=11085)\n",
    "#logg = HistGradientBoostingRegressor()\n",
    "\n",
    "logg.fit(x_train, y_train)"
   ]
  },
  {
   "cell_type": "code",
   "execution_count": 88,
   "id": "74fdd56f",
   "metadata": {},
   "outputs": [],
   "source": [
    "predlogg = logg.predict(x_test)"
   ]
  },
  {
   "cell_type": "code",
   "execution_count": 89,
   "id": "32ffcfc0",
   "metadata": {},
   "outputs": [
    {
     "data": {
      "text/plain": [
       "Text(0, 0.5, 'Y_test')"
      ]
     },
     "execution_count": 89,
     "metadata": {},
     "output_type": "execute_result"
    },
    {
     "data": {
      "image/png": "[encoded data removed]",
      "text/plain": [
       "<Figure size 640x480 with 1 Axes>"
      ]
     },
     "metadata": {},
     "output_type": "display_data"
    }
   ],
   "source": [
    "# plota o pred de acordo com o Y_test (teff)\n",
    "plt.scatter(predlogg, y_test, s=1)\n",
    "plt.xlim(0, 5)\n",
    "plt.ylim(0, 5)\n",
    "plt.xlabel('Predict test')\n",
    "plt.ylabel('Y_test')"
   ]
  },
  {
   "cell_type": "code",
   "execution_count": 90,
   "id": "af14b0dc",
   "metadata": {},
   "outputs": [
    {
     "data": {
      "text/plain": [
       "0.4047663918641915"
      ]
     },
     "execution_count": 90,
     "metadata": {},
     "output_type": "execute_result"
    }
   ],
   "source": [
    "logg.score(x_test, y_test)"
   ]
  },
  {
   "cell_type": "code",
   "execution_count": 91,
   "id": "7ad5ea27",
   "metadata": {},
   "outputs": [
    {
     "name": "stdout",
     "output_type": "stream",
     "text": [
      "The accuracy of our model is 40.0%\n"
     ]
    }
   ],
   "source": [
    "score = r2_score(y_test, predlogg)\n",
    "print(\"The accuracy of our model is {}%\".format(round(score, 2) *100))"
   ]
  },
  {
   "cell_type": "code",
   "execution_count": 92,
   "id": "f7da6af5",
   "metadata": {},
   "outputs": [
    {
     "name": "stdout",
     "output_type": "stream",
     "text": [
      "The Mean Absolute Error of our Model is 0.31\n"
     ]
    }
   ],
   "source": [
    "score = mean_absolute_error(y_test, predlogg)\n",
    "print(\"The Mean Absolute Error of our Model is {}\".format(round(score, 2)))"
   ]
  },
  {
   "cell_type": "code",
   "execution_count": 93,
   "id": "cc8d27df",
   "metadata": {},
   "outputs": [
    {
     "name": "stdout",
     "output_type": "stream",
     "text": [
      "The Mean Absolute Error of our Model is 0.56\n"
     ]
    }
   ],
   "source": [
    "score = np.sqrt(mean_absolute_error(y_test, predlogg))\n",
    "print(\"The Mean Absolute Error of our Model is {}\".format(round(score, 2)))"
   ]
  },
  {
   "cell_type": "code",
   "execution_count": null,
   "id": "2f143c1c",
   "metadata": {},
   "outputs": [],
   "source": []
  },
  {
   "cell_type": "code",
   "execution_count": null,
   "id": "7a78e186",
   "metadata": {},
   "outputs": [],
   "source": []
  },
  {
   "cell_type": "code",
   "execution_count": null,
   "id": "04051557",
   "metadata": {},
   "outputs": [],
   "source": []
  },
  {
   "cell_type": "code",
   "execution_count": null,
   "id": "96bfce39",
   "metadata": {},
   "outputs": [],
   "source": []
  },
  {
   "cell_type": "code",
   "execution_count": null,
   "id": "cc07d47d",
   "metadata": {},
   "outputs": [],
   "source": []
  },
  {
   "cell_type": "markdown",
   "id": "b2db6876",
   "metadata": {},
   "source": [
    "# Feh"
   ]
  },
  {
   "cell_type": "markdown",
   "id": "adcb96bd",
   "metadata": {},
   "source": [
    "### Segue"
   ]
  },
  {
   "cell_type": "code",
   "execution_count": 94,
   "id": "19b57a93",
   "metadata": {},
   "outputs": [],
   "source": [
    "xtrain = csv.loc[(csv['SNR_SEGUE']>10) & \n",
    "                 (csv['teff_SEGUE']>4000) & \n",
    "                 (csv['teff_SEGUE']<7000),\n",
    "                 ['u_0', 'J378_0', 'J395_0', \n",
    "                 'J410_0', 'J430_0', 'g_0', \n",
    "                 'J515_0', 'r_0', 'J660_0', \n",
    "                 'i_0', 'J861_0', 'z_0']]"
   ]
  },
  {
   "cell_type": "code",
   "execution_count": 95,
   "id": "0ffd7025",
   "metadata": {},
   "outputs": [],
   "source": [
    "ytrain = csv.loc[(csv['SNR_SEGUE']>10) & \n",
    "                 (csv['teff_SEGUE']>4000) & \n",
    "                 (csv['teff_SEGUE']<7000),\n",
    "                 ['feh_training']]"
   ]
  },
  {
   "cell_type": "markdown",
   "id": "7b9728c0",
   "metadata": {},
   "source": [
    "### Lamost"
   ]
  },
  {
   "cell_type": "code",
   "execution_count": 4,
   "id": "63a221d7",
   "metadata": {},
   "outputs": [],
   "source": [
    "xtrain = csv.loc[(csv['SNRg_LAMOST']>10) & \n",
    "                 (csv['SNRi_LAMOST']>10) & \n",
    "                 (csv['SNRz_LAMOST']>10) & \n",
    "                 (csv['SNRr_LAMOST']>10) & \n",
    "                 (csv['teff_LAMOST']>4000) & \n",
    "                 (csv['teff_LAMOST']<7000),\n",
    "                 ['u_0', 'J378_0', 'J395_0', \n",
    "                 'J410_0', 'J430_0', 'g_0', \n",
    "                 'J515_0', 'r_0', 'J660_0', \n",
    "                 'i_0', 'J861_0', 'z_0']]"
   ]
  },
  {
   "cell_type": "code",
   "execution_count": 5,
   "id": "fc689b5c",
   "metadata": {},
   "outputs": [],
   "source": [
    "ytrain = csv.loc[(csv['SNRg_LAMOST']>10) & \n",
    "                 (csv['SNRi_LAMOST']>10) & \n",
    "                 (csv['SNRz_LAMOST']>10) & \n",
    "                 (csv['SNRr_LAMOST']>10) & \n",
    "                 (csv['teff_LAMOST']>4000) & \n",
    "                 (csv['teff_LAMOST']<7000),\n",
    "                 ['feh_training']]"
   ]
  },
  {
   "cell_type": "code",
   "execution_count": null,
   "id": "70d4422a",
   "metadata": {},
   "outputs": [],
   "source": []
  },
  {
   "cell_type": "code",
   "execution_count": 52,
   "id": "c874c9e7",
   "metadata": {},
   "outputs": [],
   "source": [
    "for column in xtrain:\n",
    "    xtrain = cap_outliers(xtrain, column)\n",
    "\n",
    "ytrain = cap_outliers(ytrain, 'feh_training')"
   ]
  },
  {
   "cell_type": "code",
   "execution_count": null,
   "id": "3a4a295e",
   "metadata": {},
   "outputs": [],
   "source": []
  },
  {
   "cell_type": "code",
   "execution_count": 6,
   "id": "7d1b1cd9",
   "metadata": {},
   "outputs": [],
   "source": [
    "train_x= encoder.encode_DataFrame(xtrain, \"lamost\")#The input vector: 12 stellar filters from splus; For example, it is an array with the shape of (189654,13);\n",
    "\n",
    "# train_y= encoder.encode_DataFrame(ytrain, 'teff_training')\n",
    "train_y= ytrain"
   ]
  },
  {
   "cell_type": "code",
   "execution_count": 7,
   "id": "b3ea2998",
   "metadata": {},
   "outputs": [],
   "source": [
    "x_train, x_test, y_train, y_test = train_test_split(train_x, train_y, test_size=0.2, random_state=11085)"
   ]
  },
  {
   "cell_type": "code",
   "execution_count": null,
   "id": "6f7d55ca",
   "metadata": {},
   "outputs": [],
   "source": []
  },
  {
   "cell_type": "code",
   "execution_count": null,
   "id": "c344d5a0",
   "metadata": {},
   "outputs": [],
   "source": []
  },
  {
   "cell_type": "code",
   "execution_count": null,
   "id": "2a81e3e4",
   "metadata": {},
   "outputs": [],
   "source": []
  },
  {
   "cell_type": "markdown",
   "id": "e98bc849",
   "metadata": {},
   "source": [
    "#### Linear Regression"
   ]
  },
  {
   "cell_type": "code",
   "execution_count": 20,
   "id": "7bd0c3f3",
   "metadata": {},
   "outputs": [
    {
     "name": "stdout",
     "output_type": "stream",
     "text": [
      "Score = 0.19143825931959535\n",
      "The accuracy of our model is 19.0%\n",
      "The Mean Absolute Error of our Model is 0.26\n",
      "The Mean Absolute Error of our Model is 0.26\n"
     ]
    },
    {
     "data": {
      "image/png": "[encoded data removed]",
      "text/plain": [
       "<Figure size 640x480 with 1 Axes>"
      ]
     },
     "metadata": {},
     "output_type": "display_data"
    }
   ],
   "source": [
    "feh = LinearRegression()\n",
    "\n",
    "feh.fit(x_train, y_train)\n",
    "predfeh = feh.predict(x_test)\n",
    "\n",
    "\n",
    "# plota o pred de acordo com o Y_test (teff)\n",
    "plt.scatter(predfeh, y_test, s=1)\n",
    "#plt.xlim(-1, 1)\n",
    "#plt.ylim(-1, 1)\n",
    "plt.xlabel('Predict test')\n",
    "plt.ylabel('Y_test')\n",
    "\n",
    "\n",
    "print(f'Score = {feh.score(x_test, y_test)}')\n",
    "\n",
    "score1 = r2_score(y_test, predfeh)\n",
    "print(\"The accuracy of our model is {}%\".format(round(score1, 2) *100))\n",
    "\n",
    "score2 = mean_absolute_error(y_test, predfeh)\n",
    "print(\"The Mean Absolute Error of our Model is {}\".format(round(score2, 2)))\n",
    "\n",
    "score3 = mean_absolute_error(y_test, predfeh)\n",
    "print(\"The Mean Absolute Error of our Model is {}\".format(round(score3, 2)))"
   ]
  },
  {
   "cell_type": "markdown",
   "id": "c0147d96",
   "metadata": {},
   "source": [
    "#### Decision Tree Regressor"
   ]
  },
  {
   "cell_type": "code",
   "execution_count": 55,
   "id": "0f5051ea",
   "metadata": {
    "scrolled": true
   },
   "outputs": [
    {
     "name": "stdout",
     "output_type": "stream",
     "text": [
      "Score = 0.41738812680063053\n",
      "The accuracy of our model is 42.0%\n",
      "The Mean Absolute Error of our Model is 0.23\n",
      "The Mean Absolute Error of our Model is 0.23\n",
      "\n",
      "Score = 0.1798137754444895\n",
      "The accuracy of our model is 18.0%\n",
      "The Mean Absolute Error of our Model is 0.27\n",
      "The Mean Absolute Error of our Model is 0.27\n",
      "\n",
      "Score = 0.3399616484590531\n",
      "The accuracy of our model is 34.0%\n",
      "The Mean Absolute Error of our Model is 0.24\n",
      "The Mean Absolute Error of our Model is 0.24\n",
      "\n",
      "Score = 0.391549485181792\n",
      "The accuracy of our model is 39.0%\n",
      "The Mean Absolute Error of our Model is 0.23\n",
      "The Mean Absolute Error of our Model is 0.23\n",
      "\n",
      "Score = 0.41738812680063053\n",
      "The accuracy of our model is 42.0%\n",
      "The Mean Absolute Error of our Model is 0.23\n",
      "The Mean Absolute Error of our Model is 0.23\n",
      "\n",
      "Score = 0.41738812680063053\n",
      "The accuracy of our model is 42.0%\n",
      "The Mean Absolute Error of our Model is 0.23\n",
      "The Mean Absolute Error of our Model is 0.23\n",
      "\n",
      "Score = 0.41738812680063053\n",
      "The accuracy of our model is 42.0%\n",
      "The Mean Absolute Error of our Model is 0.23\n",
      "The Mean Absolute Error of our Model is 0.23\n",
      "\n",
      "Score = 0.41738812680063053\n",
      "The accuracy of our model is 42.0%\n",
      "The Mean Absolute Error of our Model is 0.23\n",
      "The Mean Absolute Error of our Model is 0.23\n",
      "\n",
      "Score = 0.27632762290615887\n",
      "The accuracy of our model is 28.000000000000004%\n",
      "The Mean Absolute Error of our Model is 0.25\n",
      "The Mean Absolute Error of our Model is 0.25\n",
      "\n",
      "Score = 0.41738812680063053\n",
      "The accuracy of our model is 42.0%\n",
      "The Mean Absolute Error of our Model is 0.23\n",
      "The Mean Absolute Error of our Model is 0.23\n",
      "\n",
      "Score = 0.27632762290615887\n",
      "The accuracy of our model is 28.000000000000004%\n",
      "The Mean Absolute Error of our Model is 0.25\n",
      "The Mean Absolute Error of our Model is 0.25\n",
      "\n",
      "Score = 0.22798771725739198\n",
      "The accuracy of our model is 23.0%\n",
      "The Mean Absolute Error of our Model is 0.26\n",
      "The Mean Absolute Error of our Model is 0.26\n",
      "\n",
      "Score = 0.13238790504331577\n",
      "The accuracy of our model is 13.0%\n",
      "The Mean Absolute Error of our Model is 0.27\n",
      "The Mean Absolute Error of our Model is 0.27\n",
      "\n",
      "Score = 0.2559385190253014\n",
      "The accuracy of our model is 26.0%\n",
      "The Mean Absolute Error of our Model is 0.25\n",
      "The Mean Absolute Error of our Model is 0.25\n",
      "\n",
      "Score = 0.25172236762701283\n",
      "The accuracy of our model is 25.0%\n",
      "The Mean Absolute Error of our Model is 0.25\n",
      "The Mean Absolute Error of our Model is 0.25\n",
      "\n",
      "Score = 0.22798771725739198\n",
      "The accuracy of our model is 23.0%\n",
      "The Mean Absolute Error of our Model is 0.26\n",
      "The Mean Absolute Error of our Model is 0.26\n",
      "\n",
      "Score = 0.22798771725739198\n",
      "The accuracy of our model is 23.0%\n",
      "The Mean Absolute Error of our Model is 0.26\n",
      "The Mean Absolute Error of our Model is 0.26\n",
      "\n",
      "Score = 0.22798771725739198\n",
      "The accuracy of our model is 23.0%\n",
      "The Mean Absolute Error of our Model is 0.26\n",
      "The Mean Absolute Error of our Model is 0.26\n",
      "\n",
      "Score = 0.22798771725739198\n",
      "The accuracy of our model is 23.0%\n",
      "The Mean Absolute Error of our Model is 0.26\n",
      "The Mean Absolute Error of our Model is 0.26\n",
      "\n",
      "Score = 0.19215992157572614\n",
      "The accuracy of our model is 19.0%\n",
      "The Mean Absolute Error of our Model is 0.26\n",
      "The Mean Absolute Error of our Model is 0.26\n",
      "\n",
      "Score = 0.22798771725739198\n",
      "The accuracy of our model is 23.0%\n",
      "The Mean Absolute Error of our Model is 0.26\n",
      "The Mean Absolute Error of our Model is 0.26\n",
      "\n",
      "Score = 0.19215992157572614\n",
      "The accuracy of our model is 19.0%\n",
      "The Mean Absolute Error of our Model is 0.26\n",
      "The Mean Absolute Error of our Model is 0.26\n",
      "\n",
      "Score = 0.19215992157572614\n"
     ]
    },
    {
     "data": {
      "image/png": "[encoded data removed]",
      "text/plain": [
       "<Figure size 640x480 with 1 Axes>"
      ]
     },
     "metadata": {},
     "output_type": "display_data"
    }
   ],
   "source": [
    "for split in [\"best\", \"random\"]:\n",
    "    for mf in [None,0.1,5,10,12,32,1000, 100,\"sqrt\",\"auto\",\"log2\"]:\n",
    "                    feh = DecisionTreeRegressor(\n",
    "                        splitter= split, \n",
    "                        max_features= mf, \n",
    "                        random_state=11085,\n",
    "                        \n",
    "                    )\n",
    "\n",
    "                    feh.fit(x_train, y_train)\n",
    "                    predfeh = feh.predict(x_test)\n",
    "\n",
    "                    print(f'Score = {feh.score(x_test, y_test)}')\n",
    "\n",
    "                    score1 = r2_score(y_test, predfeh)\n",
    "                    print(\"The accuracy of our model is {}%\".format(round(score1, 2) *100))\n",
    "\n",
    "                    score2 = mean_absolute_error(y_test, predfeh)\n",
    "                    print(\"The Mean Absolute Error of our Model is {}\".format(round(score2, 2)))\n",
    "\n",
    "                    score3 = mean_absolute_error(y_test, predfeh)\n",
    "                    print(\"The Mean Absolute Error of our Model is {}\".format(round(score3, 2)))\n",
    "                    print()\n",
    "\n",
    "\n",
    "# plota o pred de acordo com o Y_test (teff)\n",
    "plt.scatter(predfeh, y_test, s=1)\n",
    "#plt.xlim(-1, 1)\n",
    "#plt.ylim(-1, 1)\n",
    "plt.xlabel('Predict test')\n",
    "plt.ylabel('Y_test')\n",
    "\n",
    "\n",
    "print(f'Score = {feh.score(x_test, y_test)}')"
   ]
  },
  {
   "cell_type": "markdown",
   "id": "78e8a977",
   "metadata": {},
   "source": [
    "#### Random Forest Regressor"
   ]
  },
  {
   "cell_type": "code",
   "execution_count": 75,
   "id": "4e208acc",
   "metadata": {},
   "outputs": [
    {
     "name": "stdout",
     "output_type": "stream",
     "text": [
      "Score = 0.6379826005713307\n",
      "The accuracy of our model is 64.0%\n"
     ]
    },
    {
     "data": {
      "text/plain": [
       "Text(0, 0.5, 'Y_test')"
      ]
     },
     "execution_count": 75,
     "metadata": {},
     "output_type": "execute_result"
    },
    {
     "data": {
      "image/png": "[encoded data removed]",
      "text/plain": [
       "<Figure size 640x480 with 1 Axes>"
      ]
     },
     "metadata": {},
     "output_type": "display_data"
    }
   ],
   "source": [
    "feh = RandomForestRegressor(n_estimators= 5, max_depth = 50)\n",
    "feh.fit(x_train, y_train)\n",
    "predfeh = feh.predict(x_test)\n",
    "\n",
    "print(f'Score = {feh.score(x_test, y_test)}')\n",
    "\n",
    "score1 = r2_score(y_test, predfeh)\n",
    "print(\"The accuracy of our model is {}%\".format(round(score1, 2) *100))\n",
    "\n",
    "# plota o pred de acordo com o Y_test (teff)\n",
    "plt.scatter(predfeh, y_test, s=1)\n",
    "#plt.xlim(-1, 1)\n",
    "#plt.ylim(-1, 1)\n",
    "plt.xlabel('Predict test')\n",
    "plt.ylabel('Y_test')"
   ]
  },
  {
   "cell_type": "code",
   "execution_count": 60,
   "id": "059fd356",
   "metadata": {},
   "outputs": [
    {
     "name": "stdout",
     "output_type": "stream",
     "text": [
      "Score = 0.6833981417431638\n",
      "The accuracy of our model is 68.0%\n",
      "The Mean Absolute Error of our Model is 0.17\n",
      "The Mean Absolute Error of our Model is 0.17\n"
     ]
    },
    {
     "data": {
      "image/png": "[encoded data removed]",
      "text/plain": [
       "<Figure size 640x480 with 1 Axes>"
      ]
     },
     "metadata": {},
     "output_type": "display_data"
    }
   ],
   "source": [
    "for ne in np.arange(50, 200, 50):\n",
    "    for c in [\"squared_error\", \"friedman_mse\"]:\n",
    "        for md in [None, 50, 100, 150, 200]:\n",
    "            \n",
    "\n",
    "feh = RandomForestRegressor(n_estimators= 10)\n",
    "\n",
    "feh.fit(x_train, y_train)\n",
    "predfeh = feh.predict(x_test)\n",
    "\n",
    "\n",
    "# plota o pred de acordo com o Y_test (teff)\n",
    "plt.scatter(predfeh, y_test, s=1)\n",
    "#plt.xlim(-1, 1)\n",
    "#plt.ylim(-1, 1)\n",
    "plt.xlabel('Predict test')\n",
    "plt.ylabel('Y_test')\n",
    "\n",
    "\n",
    "print(f'Score = {feh.score(x_test, y_test)}')\n",
    "\n",
    "score1 = r2_score(y_test, predfeh)\n",
    "print(\"The accuracy of our model is {}%\".format(round(score1, 2) *100))\n",
    "\n",
    "score2 = mean_absolute_error(y_test, predfeh)\n",
    "print(\"The Mean Absolute Error of our Model is {}\".format(round(score2, 2)))\n",
    "\n",
    "score3 = mean_absolute_error(y_test, predfeh)\n",
    "print(\"The Mean Absolute Error of our Model is {}\".format(round(score3, 2)))"
   ]
  },
  {
   "cell_type": "code",
   "execution_count": null,
   "id": "f38bfbcf",
   "metadata": {},
   "outputs": [],
   "source": []
  },
  {
   "cell_type": "code",
   "execution_count": null,
   "id": "e695a598",
   "metadata": {},
   "outputs": [],
   "source": [
    "feh = SGDRegressor(max_iter=1, tol=-np.infty, warm_start=True, penalty=None, learning_rate=\"constant\", eta0=0.0005)\n",
    "\n",
    "feh.fit(x_train, y_train)\n",
    "predfeh = feh.predict(x_test)\n",
    "\n",
    "\n",
    "# plota o pred de acordo com o Y_test (teff)\n",
    "plt.scatter(predfeh, y_test, s=1)\n",
    "#plt.xlim(-1, 1)\n",
    "#plt.ylim(-1, 1)\n",
    "plt.xlabel('Predict test')\n",
    "plt.ylabel('Y_test')\n",
    "\n",
    "\n",
    "print(f'Score = {feh.score(x_test, y_test)}')\n",
    "\n",
    "score1 = r2_score(y_test, predfeh)\n",
    "print(\"The accuracy of our model is {}%\".format(round(score1, 2) *100))\n",
    "\n",
    "score2 = mean_absolute_error(y_test, predfeh)\n",
    "print(\"The Mean Absolute Error of our Model is {}\".format(round(score2, 2)))\n",
    "\n",
    "score3 = mean_absolute_error(y_test, predfeh)\n",
    "print(\"The Mean Absolute Error of our Model is {}\".format(round(score3, 2)))"
   ]
  },
  {
   "cell_type": "code",
   "execution_count": null,
   "id": "1f18a886",
   "metadata": {},
   "outputs": [],
   "source": []
  },
  {
   "cell_type": "code",
   "execution_count": null,
   "id": "492d78f2",
   "metadata": {},
   "outputs": [],
   "source": [
    "feh = GradientBoostingRegressor(random_state=11085)\n",
    "\n",
    "feh.fit(x_train, y_train)\n",
    "predfeh = feh.predict(x_test)\n",
    "\n",
    "\n",
    "# plota o pred de acordo com o Y_test (teff)\n",
    "plt.scatter(predfeh, y_test, s=1)\n",
    "#plt.xlim(-1, 1)\n",
    "#plt.ylim(-1, 1)\n",
    "plt.xlabel('Predict test')\n",
    "plt.ylabel('Y_test')\n",
    "\n",
    "\n",
    "print(f'Score = {feh.score(x_test, y_test)}')\n",
    "\n",
    "score1 = r2_score(y_test, predfeh)\n",
    "print(\"The accuracy of our model is {}%\".format(round(score1, 2) *100))\n",
    "\n",
    "score2 = mean_absolute_error(y_test, predfeh)\n",
    "print(\"The Mean Absolute Error of our Model is {}\".format(round(score2, 2)))\n",
    "\n",
    "score3 = mean_absolute_error(y_test, predfeh)\n",
    "print(\"The Mean Absolute Error of our Model is {}\".format(round(score3, 2)))"
   ]
  },
  {
   "cell_type": "code",
   "execution_count": null,
   "id": "2091ba51",
   "metadata": {},
   "outputs": [],
   "source": []
  },
  {
   "cell_type": "code",
   "execution_count": null,
   "id": "4fb87e0e",
   "metadata": {},
   "outputs": [],
   "source": [
    "feh = ExtraTreesRegressor(n_estimators=100, random_state=11085)\n",
    "\n",
    "feh.fit(x_train, y_train)\n",
    "predfeh = feh.predict(x_test)\n",
    "\n",
    "\n",
    "# plota o pred de acordo com o Y_test (teff)\n",
    "plt.scatter(predfeh, y_test, s=1)\n",
    "#plt.xlim(-1, 1)\n",
    "#plt.ylim(-1, 1)\n",
    "plt.xlabel('Predict test')\n",
    "plt.ylabel('Y_test')\n",
    "\n",
    "\n",
    "print(f'Score = {feh.score(x_test, y_test)}')\n",
    "\n",
    "score1 = r2_score(y_test, predfeh)\n",
    "print(\"The accuracy of our model is {}%\".format(round(score1, 2) *100))\n",
    "\n",
    "score2 = mean_absolute_error(y_test, predfeh)\n",
    "print(\"The Mean Absolute Error of our Model is {}\".format(round(score2, 2)))\n",
    "\n",
    "score3 = mean_absolute_error(y_test, predfeh)\n",
    "print(\"The Mean Absolute Error of our Model is {}\".format(round(score3, 2)))"
   ]
  },
  {
   "cell_type": "code",
   "execution_count": null,
   "id": "6fe3a01b",
   "metadata": {},
   "outputs": [],
   "source": []
  },
  {
   "cell_type": "code",
   "execution_count": null,
   "id": "95b04842",
   "metadata": {},
   "outputs": [],
   "source": [
    "feh = BaggingRegressor(n_estimators=10, random_state=0)\n",
    "\n",
    "feh.fit(x_train, y_train)\n",
    "predfeh = feh.predict(x_test)\n",
    "\n",
    "\n",
    "# plota o pred de acordo com o Y_test (teff)\n",
    "plt.scatter(predfeh, y_test, s=1)\n",
    "#plt.xlim(-1, 1)\n",
    "#plt.ylim(-1, 1)\n",
    "plt.xlabel('Predict test')\n",
    "plt.ylabel('Y_test')\n",
    "\n",
    "\n",
    "print(f'Score = {feh.score(x_test, y_test)}')\n",
    "\n",
    "score1 = r2_score(y_test, predfeh)\n",
    "print(\"The accuracy of our model is {}%\".format(round(score1, 2) *100))\n",
    "\n",
    "score2 = mean_absolute_error(y_test, predfeh)\n",
    "print(\"The Mean Absolute Error of our Model is {}\".format(round(score2, 2)))\n",
    "\n",
    "score3 = mean_absolute_error(y_test, predfeh)\n",
    "print(\"The Mean Absolute Error of our Model is {}\".format(round(score3, 2)))"
   ]
  },
  {
   "cell_type": "code",
   "execution_count": null,
   "id": "2def5c4e",
   "metadata": {},
   "outputs": [],
   "source": []
  },
  {
   "cell_type": "code",
   "execution_count": null,
   "id": "b3f3724c",
   "metadata": {},
   "outputs": [],
   "source": [
    "feh = GradientBoostingRegressor(random_state=0)\n",
    "\n",
    "feh.fit(x_train, y_train)\n",
    "predfeh = feh.predict(x_test)\n",
    "\n",
    "\n",
    "# plota o pred de acordo com o Y_test (teff)\n",
    "plt.scatter(predfeh, y_test, s=1)\n",
    "#plt.xlim(-1, 1)\n",
    "#plt.ylim(-1, 1)\n",
    "plt.xlabel('Predict test')\n",
    "plt.ylabel('Y_test')\n",
    "\n",
    "\n",
    "print(f'Score = {feh.score(x_test, y_test)}')\n",
    "\n",
    "score1 = r2_score(y_test, predfeh)\n",
    "print(\"The accuracy of our model is {}%\".format(round(score1, 2) *100))\n",
    "\n",
    "score2 = mean_absolute_error(y_test, predfeh)\n",
    "print(\"The Mean Absolute Error of our Model is {}\".format(round(score2, 2)))\n",
    "\n",
    "score3 = mean_absolute_error(y_test, predfeh)\n",
    "print(\"The Mean Absolute Error of our Model is {}\".format(round(score3, 2)))"
   ]
  },
  {
   "cell_type": "code",
   "execution_count": null,
   "id": "19d987d3",
   "metadata": {},
   "outputs": [],
   "source": []
  },
  {
   "cell_type": "code",
   "execution_count": 198,
   "id": "e4970430",
   "metadata": {
    "collapsed": true
   },
   "outputs": [
    {
     "name": "stdout",
     "output_type": "stream",
     "text": [
      "score = 0.5457506425792904\n",
      "The accuracy of our model is 55.00000000000001%\n",
      "The Mean Absolute Error of our Model is 0.3\n",
      "The Mean Absolute Error of our Model is 0.3\n"
     ]
    },
    {
     "data": {
      "image/png": "[encoded data removed]",
      "text/plain": [
       "<Figure size 640x480 with 1 Axes>"
      ]
     },
     "metadata": {},
     "output_type": "display_data"
    }
   ],
   "source": [
    "feh = HistGradientBoostingRegressor()\n",
    "\n",
    "feh.fit(x_train, y_train)\n",
    "predfeh = feh.predict(x_test)\n",
    "\n",
    "\n",
    "# plota o pred de acordo com o Y_test (teff)\n",
    "plt.scatter(predfeh, y_test, s=1)\n",
    "#plt.xlim(-1, 1)\n",
    "#plt.ylim(-1, 1)\n",
    "plt.xlabel('Predict test')\n",
    "plt.ylabel('Y_test')\n",
    "\n",
    "\n",
    "print(f'Score = {feh.score(x_test, y_test)}')\n",
    "\n",
    "score1 = r2_score(y_test, predfeh)\n",
    "print(\"The accuracy of our model is {}%\".format(round(score1, 2) *100))\n",
    "\n",
    "score2 = mean_absolute_error(y_test, predfeh)\n",
    "print(\"The Mean Absolute Error of our Model is {}\".format(round(score2, 2)))\n",
    "\n",
    "score3 = mean_absolute_error(y_test, predfeh)\n",
    "print(\"The Mean Absolute Error of our Model is {}\".format(round(score3, 2)))"
   ]
  },
  {
   "cell_type": "code",
   "execution_count": null,
   "id": "ec516d49",
   "metadata": {},
   "outputs": [],
   "source": []
  },
  {
   "cell_type": "code",
   "execution_count": null,
   "id": "13614396",
   "metadata": {},
   "outputs": [],
   "source": []
  },
  {
   "cell_type": "code",
   "execution_count": null,
   "id": "f5d0a4a6",
   "metadata": {},
   "outputs": [],
   "source": []
  },
  {
   "cell_type": "code",
   "execution_count": null,
   "id": "799b5880",
   "metadata": {},
   "outputs": [],
   "source": []
  },
  {
   "cell_type": "code",
   "execution_count": null,
   "id": "ef48b5dc",
   "metadata": {},
   "outputs": [],
   "source": []
  },
  {
   "cell_type": "code",
   "execution_count": null,
   "id": "b6e7ccd6",
   "metadata": {},
   "outputs": [],
   "source": []
  },
  {
   "cell_type": "code",
   "execution_count": null,
   "id": "a0bcad30",
   "metadata": {},
   "outputs": [],
   "source": []
  },
  {
   "cell_type": "code",
   "execution_count": null,
   "id": "4241d483",
   "metadata": {},
   "outputs": [],
   "source": []
  },
  {
   "cell_type": "code",
   "execution_count": null,
   "id": "c1de83fa",
   "metadata": {},
   "outputs": [],
   "source": []
  }
 ],
 "metadata": {
  "kernelspec": {
   "display_name": "Python 3 (ipykernel)",
   "language": "python",
   "name": "python3"
  },
  "language_info": {
   "codemirror_mode": {
    "name": "ipython",
    "version": 3
   },
   "file_extension": ".py",
   "mimetype": "text/x-python",
   "name": "python",
   "nbconvert_exporter": "python",
   "pygments_lexer": "ipython3",
   "version": "3.10.8"
  }
 },
 "nbformat": 4,
 "nbformat_minor": 5
}
